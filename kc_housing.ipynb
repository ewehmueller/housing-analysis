{
 "cells": [
  {
   "cell_type": "markdown",
   "metadata": {},
   "source": [
    "# Housing Analysis\n",
    "**Author**: Eric Wehmueller\n",
    "\n",
    "***\n",
    "\n",
    "## Overview\n",
    "\n",
    "This project is the second project for Flatiron School's bootcamp program in Data Science.  We are being placed into a hypothetical situation as a Data Scientist and hoping to provide value to our business for the scenario we are given.\n",
    "\n",
    "\n",
    "## Business Problem\n",
    "\n",
    "I have been hired by a real estate agency that helps homeowners sell homes.  For this project, I am to provide expected/estimated home prices to homeowners based on the logistics of their home.  This can also give insight on how home renovations might increase the estimated value of their homes, and what type of potential renovations are best."
   ]
  },
  {
   "cell_type": "code",
   "execution_count": 1,
   "metadata": {},
   "outputs": [],
   "source": [
    "import numpy as np\n",
    "import pandas as pd\n",
    "import matplotlib.pyplot as plt\n",
    "import seaborn as sns\n",
    "import statsmodels.api as sm\n",
    "import scipy.stats as stats\n",
    "%matplotlib inline\n",
    "from sklearn.model_selection import train_test_split\n",
    "from sklearn.preprocessing import OneHotEncoder\n",
    "from sklearn.impute import SimpleImputer\n",
    "from sklearn.pipeline import make_pipeline\n",
    "from sklearn.preprocessing import PolynomialFeatures\n",
    "from sklearn.linear_model import LinearRegression\n",
    "from statsmodels.formula.api import ols\n",
    "from sklearn.preprocessing import StandardScaler\n",
    "from sklearn.metrics import mean_squared_error\n",
    "from statsmodels.stats.outliers_influence import variance_inflation_factor"
   ]
  },
  {
   "cell_type": "markdown",
   "metadata": {},
   "source": [
    "## Data Investigation and Cleaning\n",
    "\n",
    "To start, we have access to the King County House Sales dataset.  Let's take a look at this to get a feel for what our starting point is and what raw data we have to work with."
   ]
  },
  {
   "cell_type": "code",
   "execution_count": 2,
   "metadata": {},
   "outputs": [],
   "source": [
    "df_original = pd.read_csv(\"data\\kc_house_data.csv\")"
   ]
  },
  {
   "cell_type": "code",
   "execution_count": 3,
   "metadata": {},
   "outputs": [
    {
     "name": "stdout",
     "output_type": "stream",
     "text": [
      "<class 'pandas.core.frame.DataFrame'>\n",
      "RangeIndex: 21597 entries, 0 to 21596\n",
      "Data columns (total 21 columns):\n",
      " #   Column         Non-Null Count  Dtype  \n",
      "---  ------         --------------  -----  \n",
      " 0   id             21597 non-null  int64  \n",
      " 1   date           21597 non-null  object \n",
      " 2   price          21597 non-null  float64\n",
      " 3   bedrooms       21597 non-null  int64  \n",
      " 4   bathrooms      21597 non-null  float64\n",
      " 5   sqft_living    21597 non-null  int64  \n",
      " 6   sqft_lot       21597 non-null  int64  \n",
      " 7   floors         21597 non-null  float64\n",
      " 8   waterfront     19221 non-null  float64\n",
      " 9   view           21534 non-null  float64\n",
      " 10  condition      21597 non-null  int64  \n",
      " 11  grade          21597 non-null  int64  \n",
      " 12  sqft_above     21597 non-null  int64  \n",
      " 13  sqft_basement  21597 non-null  object \n",
      " 14  yr_built       21597 non-null  int64  \n",
      " 15  yr_renovated   17755 non-null  float64\n",
      " 16  zipcode        21597 non-null  int64  \n",
      " 17  lat            21597 non-null  float64\n",
      " 18  long           21597 non-null  float64\n",
      " 19  sqft_living15  21597 non-null  int64  \n",
      " 20  sqft_lot15     21597 non-null  int64  \n",
      "dtypes: float64(8), int64(11), object(2)\n",
      "memory usage: 3.5+ MB\n"
     ]
    }
   ],
   "source": [
    "df_original.info()"
   ]
  },
  {
   "cell_type": "code",
   "execution_count": 4,
   "metadata": {},
   "outputs": [
    {
     "data": {
      "text/html": [
       "<div>\n",
       "<style scoped>\n",
       "    .dataframe tbody tr th:only-of-type {\n",
       "        vertical-align: middle;\n",
       "    }\n",
       "\n",
       "    .dataframe tbody tr th {\n",
       "        vertical-align: top;\n",
       "    }\n",
       "\n",
       "    .dataframe thead th {\n",
       "        text-align: right;\n",
       "    }\n",
       "</style>\n",
       "<table border=\"1\" class=\"dataframe\">\n",
       "  <thead>\n",
       "    <tr style=\"text-align: right;\">\n",
       "      <th></th>\n",
       "      <th>id</th>\n",
       "      <th>date</th>\n",
       "      <th>price</th>\n",
       "      <th>bedrooms</th>\n",
       "      <th>bathrooms</th>\n",
       "      <th>sqft_living</th>\n",
       "      <th>sqft_lot</th>\n",
       "      <th>floors</th>\n",
       "      <th>waterfront</th>\n",
       "      <th>view</th>\n",
       "      <th>...</th>\n",
       "      <th>grade</th>\n",
       "      <th>sqft_above</th>\n",
       "      <th>sqft_basement</th>\n",
       "      <th>yr_built</th>\n",
       "      <th>yr_renovated</th>\n",
       "      <th>zipcode</th>\n",
       "      <th>lat</th>\n",
       "      <th>long</th>\n",
       "      <th>sqft_living15</th>\n",
       "      <th>sqft_lot15</th>\n",
       "    </tr>\n",
       "  </thead>\n",
       "  <tbody>\n",
       "    <tr>\n",
       "      <th>0</th>\n",
       "      <td>7129300520</td>\n",
       "      <td>10/13/2014</td>\n",
       "      <td>221900.0</td>\n",
       "      <td>3</td>\n",
       "      <td>1.00</td>\n",
       "      <td>1180</td>\n",
       "      <td>5650</td>\n",
       "      <td>1.0</td>\n",
       "      <td>NaN</td>\n",
       "      <td>0.0</td>\n",
       "      <td>...</td>\n",
       "      <td>7</td>\n",
       "      <td>1180</td>\n",
       "      <td>0.0</td>\n",
       "      <td>1955</td>\n",
       "      <td>0.0</td>\n",
       "      <td>98178</td>\n",
       "      <td>47.5112</td>\n",
       "      <td>-122.257</td>\n",
       "      <td>1340</td>\n",
       "      <td>5650</td>\n",
       "    </tr>\n",
       "    <tr>\n",
       "      <th>1</th>\n",
       "      <td>6414100192</td>\n",
       "      <td>12/9/2014</td>\n",
       "      <td>538000.0</td>\n",
       "      <td>3</td>\n",
       "      <td>2.25</td>\n",
       "      <td>2570</td>\n",
       "      <td>7242</td>\n",
       "      <td>2.0</td>\n",
       "      <td>0.0</td>\n",
       "      <td>0.0</td>\n",
       "      <td>...</td>\n",
       "      <td>7</td>\n",
       "      <td>2170</td>\n",
       "      <td>400.0</td>\n",
       "      <td>1951</td>\n",
       "      <td>1991.0</td>\n",
       "      <td>98125</td>\n",
       "      <td>47.7210</td>\n",
       "      <td>-122.319</td>\n",
       "      <td>1690</td>\n",
       "      <td>7639</td>\n",
       "    </tr>\n",
       "    <tr>\n",
       "      <th>2</th>\n",
       "      <td>5631500400</td>\n",
       "      <td>2/25/2015</td>\n",
       "      <td>180000.0</td>\n",
       "      <td>2</td>\n",
       "      <td>1.00</td>\n",
       "      <td>770</td>\n",
       "      <td>10000</td>\n",
       "      <td>1.0</td>\n",
       "      <td>0.0</td>\n",
       "      <td>0.0</td>\n",
       "      <td>...</td>\n",
       "      <td>6</td>\n",
       "      <td>770</td>\n",
       "      <td>0.0</td>\n",
       "      <td>1933</td>\n",
       "      <td>NaN</td>\n",
       "      <td>98028</td>\n",
       "      <td>47.7379</td>\n",
       "      <td>-122.233</td>\n",
       "      <td>2720</td>\n",
       "      <td>8062</td>\n",
       "    </tr>\n",
       "    <tr>\n",
       "      <th>3</th>\n",
       "      <td>2487200875</td>\n",
       "      <td>12/9/2014</td>\n",
       "      <td>604000.0</td>\n",
       "      <td>4</td>\n",
       "      <td>3.00</td>\n",
       "      <td>1960</td>\n",
       "      <td>5000</td>\n",
       "      <td>1.0</td>\n",
       "      <td>0.0</td>\n",
       "      <td>0.0</td>\n",
       "      <td>...</td>\n",
       "      <td>7</td>\n",
       "      <td>1050</td>\n",
       "      <td>910.0</td>\n",
       "      <td>1965</td>\n",
       "      <td>0.0</td>\n",
       "      <td>98136</td>\n",
       "      <td>47.5208</td>\n",
       "      <td>-122.393</td>\n",
       "      <td>1360</td>\n",
       "      <td>5000</td>\n",
       "    </tr>\n",
       "    <tr>\n",
       "      <th>4</th>\n",
       "      <td>1954400510</td>\n",
       "      <td>2/18/2015</td>\n",
       "      <td>510000.0</td>\n",
       "      <td>3</td>\n",
       "      <td>2.00</td>\n",
       "      <td>1680</td>\n",
       "      <td>8080</td>\n",
       "      <td>1.0</td>\n",
       "      <td>0.0</td>\n",
       "      <td>0.0</td>\n",
       "      <td>...</td>\n",
       "      <td>8</td>\n",
       "      <td>1680</td>\n",
       "      <td>0.0</td>\n",
       "      <td>1987</td>\n",
       "      <td>0.0</td>\n",
       "      <td>98074</td>\n",
       "      <td>47.6168</td>\n",
       "      <td>-122.045</td>\n",
       "      <td>1800</td>\n",
       "      <td>7503</td>\n",
       "    </tr>\n",
       "    <tr>\n",
       "      <th>5</th>\n",
       "      <td>7237550310</td>\n",
       "      <td>5/12/2014</td>\n",
       "      <td>1230000.0</td>\n",
       "      <td>4</td>\n",
       "      <td>4.50</td>\n",
       "      <td>5420</td>\n",
       "      <td>101930</td>\n",
       "      <td>1.0</td>\n",
       "      <td>0.0</td>\n",
       "      <td>0.0</td>\n",
       "      <td>...</td>\n",
       "      <td>11</td>\n",
       "      <td>3890</td>\n",
       "      <td>1530.0</td>\n",
       "      <td>2001</td>\n",
       "      <td>0.0</td>\n",
       "      <td>98053</td>\n",
       "      <td>47.6561</td>\n",
       "      <td>-122.005</td>\n",
       "      <td>4760</td>\n",
       "      <td>101930</td>\n",
       "    </tr>\n",
       "    <tr>\n",
       "      <th>6</th>\n",
       "      <td>1321400060</td>\n",
       "      <td>6/27/2014</td>\n",
       "      <td>257500.0</td>\n",
       "      <td>3</td>\n",
       "      <td>2.25</td>\n",
       "      <td>1715</td>\n",
       "      <td>6819</td>\n",
       "      <td>2.0</td>\n",
       "      <td>0.0</td>\n",
       "      <td>0.0</td>\n",
       "      <td>...</td>\n",
       "      <td>7</td>\n",
       "      <td>1715</td>\n",
       "      <td>?</td>\n",
       "      <td>1995</td>\n",
       "      <td>0.0</td>\n",
       "      <td>98003</td>\n",
       "      <td>47.3097</td>\n",
       "      <td>-122.327</td>\n",
       "      <td>2238</td>\n",
       "      <td>6819</td>\n",
       "    </tr>\n",
       "    <tr>\n",
       "      <th>7</th>\n",
       "      <td>2008000270</td>\n",
       "      <td>1/15/2015</td>\n",
       "      <td>291850.0</td>\n",
       "      <td>3</td>\n",
       "      <td>1.50</td>\n",
       "      <td>1060</td>\n",
       "      <td>9711</td>\n",
       "      <td>1.0</td>\n",
       "      <td>0.0</td>\n",
       "      <td>NaN</td>\n",
       "      <td>...</td>\n",
       "      <td>7</td>\n",
       "      <td>1060</td>\n",
       "      <td>0.0</td>\n",
       "      <td>1963</td>\n",
       "      <td>0.0</td>\n",
       "      <td>98198</td>\n",
       "      <td>47.4095</td>\n",
       "      <td>-122.315</td>\n",
       "      <td>1650</td>\n",
       "      <td>9711</td>\n",
       "    </tr>\n",
       "    <tr>\n",
       "      <th>8</th>\n",
       "      <td>2414600126</td>\n",
       "      <td>4/15/2015</td>\n",
       "      <td>229500.0</td>\n",
       "      <td>3</td>\n",
       "      <td>1.00</td>\n",
       "      <td>1780</td>\n",
       "      <td>7470</td>\n",
       "      <td>1.0</td>\n",
       "      <td>0.0</td>\n",
       "      <td>0.0</td>\n",
       "      <td>...</td>\n",
       "      <td>7</td>\n",
       "      <td>1050</td>\n",
       "      <td>730.0</td>\n",
       "      <td>1960</td>\n",
       "      <td>0.0</td>\n",
       "      <td>98146</td>\n",
       "      <td>47.5123</td>\n",
       "      <td>-122.337</td>\n",
       "      <td>1780</td>\n",
       "      <td>8113</td>\n",
       "    </tr>\n",
       "    <tr>\n",
       "      <th>9</th>\n",
       "      <td>3793500160</td>\n",
       "      <td>3/12/2015</td>\n",
       "      <td>323000.0</td>\n",
       "      <td>3</td>\n",
       "      <td>2.50</td>\n",
       "      <td>1890</td>\n",
       "      <td>6560</td>\n",
       "      <td>2.0</td>\n",
       "      <td>0.0</td>\n",
       "      <td>0.0</td>\n",
       "      <td>...</td>\n",
       "      <td>7</td>\n",
       "      <td>1890</td>\n",
       "      <td>0.0</td>\n",
       "      <td>2003</td>\n",
       "      <td>0.0</td>\n",
       "      <td>98038</td>\n",
       "      <td>47.3684</td>\n",
       "      <td>-122.031</td>\n",
       "      <td>2390</td>\n",
       "      <td>7570</td>\n",
       "    </tr>\n",
       "  </tbody>\n",
       "</table>\n",
       "<p>10 rows × 21 columns</p>\n",
       "</div>"
      ],
      "text/plain": [
       "           id        date      price  bedrooms  bathrooms  sqft_living  \\\n",
       "0  7129300520  10/13/2014   221900.0         3       1.00         1180   \n",
       "1  6414100192   12/9/2014   538000.0         3       2.25         2570   \n",
       "2  5631500400   2/25/2015   180000.0         2       1.00          770   \n",
       "3  2487200875   12/9/2014   604000.0         4       3.00         1960   \n",
       "4  1954400510   2/18/2015   510000.0         3       2.00         1680   \n",
       "5  7237550310   5/12/2014  1230000.0         4       4.50         5420   \n",
       "6  1321400060   6/27/2014   257500.0         3       2.25         1715   \n",
       "7  2008000270   1/15/2015   291850.0         3       1.50         1060   \n",
       "8  2414600126   4/15/2015   229500.0         3       1.00         1780   \n",
       "9  3793500160   3/12/2015   323000.0         3       2.50         1890   \n",
       "\n",
       "   sqft_lot  floors  waterfront  view  ...  grade  sqft_above  sqft_basement  \\\n",
       "0      5650     1.0         NaN   0.0  ...      7        1180            0.0   \n",
       "1      7242     2.0         0.0   0.0  ...      7        2170          400.0   \n",
       "2     10000     1.0         0.0   0.0  ...      6         770            0.0   \n",
       "3      5000     1.0         0.0   0.0  ...      7        1050          910.0   \n",
       "4      8080     1.0         0.0   0.0  ...      8        1680            0.0   \n",
       "5    101930     1.0         0.0   0.0  ...     11        3890         1530.0   \n",
       "6      6819     2.0         0.0   0.0  ...      7        1715              ?   \n",
       "7      9711     1.0         0.0   NaN  ...      7        1060            0.0   \n",
       "8      7470     1.0         0.0   0.0  ...      7        1050          730.0   \n",
       "9      6560     2.0         0.0   0.0  ...      7        1890            0.0   \n",
       "\n",
       "  yr_built  yr_renovated  zipcode      lat     long  sqft_living15  sqft_lot15  \n",
       "0     1955           0.0    98178  47.5112 -122.257           1340        5650  \n",
       "1     1951        1991.0    98125  47.7210 -122.319           1690        7639  \n",
       "2     1933           NaN    98028  47.7379 -122.233           2720        8062  \n",
       "3     1965           0.0    98136  47.5208 -122.393           1360        5000  \n",
       "4     1987           0.0    98074  47.6168 -122.045           1800        7503  \n",
       "5     2001           0.0    98053  47.6561 -122.005           4760      101930  \n",
       "6     1995           0.0    98003  47.3097 -122.327           2238        6819  \n",
       "7     1963           0.0    98198  47.4095 -122.315           1650        9711  \n",
       "8     1960           0.0    98146  47.5123 -122.337           1780        8113  \n",
       "9     2003           0.0    98038  47.3684 -122.031           2390        7570  \n",
       "\n",
       "[10 rows x 21 columns]"
      ]
     },
     "execution_count": 4,
     "metadata": {},
     "output_type": "execute_result"
    }
   ],
   "source": [
    "df_original.head(10)"
   ]
  },
  {
   "cell_type": "markdown",
   "metadata": {},
   "source": [
    "\n",
    "Per the project description, I will be ignoring the following features: date, view, sqft_above, sqft_basement, yr_renovated, zipcode, lat, long, sqft_living15, sqft_lot15. For the time being, I am trying to make my modeling phase in this project as simple as possible."
   ]
  },
  {
   "cell_type": "code",
   "execution_count": 5,
   "metadata": {},
   "outputs": [
    {
     "data": {
      "text/html": [
       "<div>\n",
       "<style scoped>\n",
       "    .dataframe tbody tr th:only-of-type {\n",
       "        vertical-align: middle;\n",
       "    }\n",
       "\n",
       "    .dataframe tbody tr th {\n",
       "        vertical-align: top;\n",
       "    }\n",
       "\n",
       "    .dataframe thead th {\n",
       "        text-align: right;\n",
       "    }\n",
       "</style>\n",
       "<table border=\"1\" class=\"dataframe\">\n",
       "  <thead>\n",
       "    <tr style=\"text-align: right;\">\n",
       "      <th></th>\n",
       "      <th>price</th>\n",
       "      <th>bedrooms</th>\n",
       "      <th>bathrooms</th>\n",
       "      <th>sqft_living</th>\n",
       "      <th>sqft_lot</th>\n",
       "      <th>floors</th>\n",
       "      <th>waterfront</th>\n",
       "      <th>condition</th>\n",
       "      <th>grade</th>\n",
       "      <th>yr_built</th>\n",
       "      <th>lat</th>\n",
       "      <th>long</th>\n",
       "    </tr>\n",
       "  </thead>\n",
       "  <tbody>\n",
       "    <tr>\n",
       "      <th>0</th>\n",
       "      <td>221900.0</td>\n",
       "      <td>3</td>\n",
       "      <td>1.00</td>\n",
       "      <td>1180</td>\n",
       "      <td>5650</td>\n",
       "      <td>1.0</td>\n",
       "      <td>NaN</td>\n",
       "      <td>3</td>\n",
       "      <td>7</td>\n",
       "      <td>1955</td>\n",
       "      <td>47.5112</td>\n",
       "      <td>-122.257</td>\n",
       "    </tr>\n",
       "    <tr>\n",
       "      <th>1</th>\n",
       "      <td>538000.0</td>\n",
       "      <td>3</td>\n",
       "      <td>2.25</td>\n",
       "      <td>2570</td>\n",
       "      <td>7242</td>\n",
       "      <td>2.0</td>\n",
       "      <td>0.0</td>\n",
       "      <td>3</td>\n",
       "      <td>7</td>\n",
       "      <td>1951</td>\n",
       "      <td>47.7210</td>\n",
       "      <td>-122.319</td>\n",
       "    </tr>\n",
       "    <tr>\n",
       "      <th>2</th>\n",
       "      <td>180000.0</td>\n",
       "      <td>2</td>\n",
       "      <td>1.00</td>\n",
       "      <td>770</td>\n",
       "      <td>10000</td>\n",
       "      <td>1.0</td>\n",
       "      <td>0.0</td>\n",
       "      <td>3</td>\n",
       "      <td>6</td>\n",
       "      <td>1933</td>\n",
       "      <td>47.7379</td>\n",
       "      <td>-122.233</td>\n",
       "    </tr>\n",
       "    <tr>\n",
       "      <th>3</th>\n",
       "      <td>604000.0</td>\n",
       "      <td>4</td>\n",
       "      <td>3.00</td>\n",
       "      <td>1960</td>\n",
       "      <td>5000</td>\n",
       "      <td>1.0</td>\n",
       "      <td>0.0</td>\n",
       "      <td>5</td>\n",
       "      <td>7</td>\n",
       "      <td>1965</td>\n",
       "      <td>47.5208</td>\n",
       "      <td>-122.393</td>\n",
       "    </tr>\n",
       "    <tr>\n",
       "      <th>4</th>\n",
       "      <td>510000.0</td>\n",
       "      <td>3</td>\n",
       "      <td>2.00</td>\n",
       "      <td>1680</td>\n",
       "      <td>8080</td>\n",
       "      <td>1.0</td>\n",
       "      <td>0.0</td>\n",
       "      <td>3</td>\n",
       "      <td>8</td>\n",
       "      <td>1987</td>\n",
       "      <td>47.6168</td>\n",
       "      <td>-122.045</td>\n",
       "    </tr>\n",
       "    <tr>\n",
       "      <th>...</th>\n",
       "      <td>...</td>\n",
       "      <td>...</td>\n",
       "      <td>...</td>\n",
       "      <td>...</td>\n",
       "      <td>...</td>\n",
       "      <td>...</td>\n",
       "      <td>...</td>\n",
       "      <td>...</td>\n",
       "      <td>...</td>\n",
       "      <td>...</td>\n",
       "      <td>...</td>\n",
       "      <td>...</td>\n",
       "    </tr>\n",
       "    <tr>\n",
       "      <th>21592</th>\n",
       "      <td>360000.0</td>\n",
       "      <td>3</td>\n",
       "      <td>2.50</td>\n",
       "      <td>1530</td>\n",
       "      <td>1131</td>\n",
       "      <td>3.0</td>\n",
       "      <td>0.0</td>\n",
       "      <td>3</td>\n",
       "      <td>8</td>\n",
       "      <td>2009</td>\n",
       "      <td>47.6993</td>\n",
       "      <td>-122.346</td>\n",
       "    </tr>\n",
       "    <tr>\n",
       "      <th>21593</th>\n",
       "      <td>400000.0</td>\n",
       "      <td>4</td>\n",
       "      <td>2.50</td>\n",
       "      <td>2310</td>\n",
       "      <td>5813</td>\n",
       "      <td>2.0</td>\n",
       "      <td>0.0</td>\n",
       "      <td>3</td>\n",
       "      <td>8</td>\n",
       "      <td>2014</td>\n",
       "      <td>47.5107</td>\n",
       "      <td>-122.362</td>\n",
       "    </tr>\n",
       "    <tr>\n",
       "      <th>21594</th>\n",
       "      <td>402101.0</td>\n",
       "      <td>2</td>\n",
       "      <td>0.75</td>\n",
       "      <td>1020</td>\n",
       "      <td>1350</td>\n",
       "      <td>2.0</td>\n",
       "      <td>0.0</td>\n",
       "      <td>3</td>\n",
       "      <td>7</td>\n",
       "      <td>2009</td>\n",
       "      <td>47.5944</td>\n",
       "      <td>-122.299</td>\n",
       "    </tr>\n",
       "    <tr>\n",
       "      <th>21595</th>\n",
       "      <td>400000.0</td>\n",
       "      <td>3</td>\n",
       "      <td>2.50</td>\n",
       "      <td>1600</td>\n",
       "      <td>2388</td>\n",
       "      <td>2.0</td>\n",
       "      <td>NaN</td>\n",
       "      <td>3</td>\n",
       "      <td>8</td>\n",
       "      <td>2004</td>\n",
       "      <td>47.5345</td>\n",
       "      <td>-122.069</td>\n",
       "    </tr>\n",
       "    <tr>\n",
       "      <th>21596</th>\n",
       "      <td>325000.0</td>\n",
       "      <td>2</td>\n",
       "      <td>0.75</td>\n",
       "      <td>1020</td>\n",
       "      <td>1076</td>\n",
       "      <td>2.0</td>\n",
       "      <td>0.0</td>\n",
       "      <td>3</td>\n",
       "      <td>7</td>\n",
       "      <td>2008</td>\n",
       "      <td>47.5941</td>\n",
       "      <td>-122.299</td>\n",
       "    </tr>\n",
       "  </tbody>\n",
       "</table>\n",
       "<p>21597 rows × 12 columns</p>\n",
       "</div>"
      ],
      "text/plain": [
       "          price  bedrooms  bathrooms  sqft_living  sqft_lot  floors  \\\n",
       "0      221900.0         3       1.00         1180      5650     1.0   \n",
       "1      538000.0         3       2.25         2570      7242     2.0   \n",
       "2      180000.0         2       1.00          770     10000     1.0   \n",
       "3      604000.0         4       3.00         1960      5000     1.0   \n",
       "4      510000.0         3       2.00         1680      8080     1.0   \n",
       "...         ...       ...        ...          ...       ...     ...   \n",
       "21592  360000.0         3       2.50         1530      1131     3.0   \n",
       "21593  400000.0         4       2.50         2310      5813     2.0   \n",
       "21594  402101.0         2       0.75         1020      1350     2.0   \n",
       "21595  400000.0         3       2.50         1600      2388     2.0   \n",
       "21596  325000.0         2       0.75         1020      1076     2.0   \n",
       "\n",
       "       waterfront  condition  grade  yr_built      lat     long  \n",
       "0             NaN          3      7      1955  47.5112 -122.257  \n",
       "1             0.0          3      7      1951  47.7210 -122.319  \n",
       "2             0.0          3      6      1933  47.7379 -122.233  \n",
       "3             0.0          5      7      1965  47.5208 -122.393  \n",
       "4             0.0          3      8      1987  47.6168 -122.045  \n",
       "...           ...        ...    ...       ...      ...      ...  \n",
       "21592         0.0          3      8      2009  47.6993 -122.346  \n",
       "21593         0.0          3      8      2014  47.5107 -122.362  \n",
       "21594         0.0          3      7      2009  47.5944 -122.299  \n",
       "21595         NaN          3      8      2004  47.5345 -122.069  \n",
       "21596         0.0          3      7      2008  47.5941 -122.299  \n",
       "\n",
       "[21597 rows x 12 columns]"
      ]
     },
     "metadata": {},
     "output_type": "display_data"
    }
   ],
   "source": [
    "df_col_drops = df_original.drop(columns=['id', 'date', 'view', 'sqft_above', 'sqft_basement', 'yr_renovated', 'zipcode', 'sqft_living15', 'sqft_lot15'])\n",
    "display(df_col_drops)"
   ]
  },
  {
   "cell_type": "code",
   "execution_count": 6,
   "metadata": {},
   "outputs": [
    {
     "name": "stdout",
     "output_type": "stream",
     "text": [
      "<class 'pandas.core.frame.DataFrame'>\n",
      "RangeIndex: 21597 entries, 0 to 21596\n",
      "Data columns (total 12 columns):\n",
      " #   Column       Non-Null Count  Dtype  \n",
      "---  ------       --------------  -----  \n",
      " 0   price        21597 non-null  float64\n",
      " 1   bedrooms     21597 non-null  int64  \n",
      " 2   bathrooms    21597 non-null  float64\n",
      " 3   sqft_living  21597 non-null  int64  \n",
      " 4   sqft_lot     21597 non-null  int64  \n",
      " 5   floors       21597 non-null  float64\n",
      " 6   waterfront   19221 non-null  float64\n",
      " 7   condition    21597 non-null  int64  \n",
      " 8   grade        21597 non-null  int64  \n",
      " 9   yr_built     21597 non-null  int64  \n",
      " 10  lat          21597 non-null  float64\n",
      " 11  long         21597 non-null  float64\n",
      "dtypes: float64(6), int64(6)\n",
      "memory usage: 2.0 MB\n"
     ]
    }
   ],
   "source": [
    "df_col_drops.info()"
   ]
  },
  {
   "cell_type": "markdown",
   "metadata": {},
   "source": [
    "Waterfront appears to have ~2000 null values. Let's investigate what values are in this column to see what we can do about the null values.\n",
    "\n",
    "Which ones are the most important features?"
   ]
  },
  {
   "cell_type": "code",
   "execution_count": 7,
   "metadata": {},
   "outputs": [
    {
     "data": {
      "text/plain": [
       "0.0    19075\n",
       "1.0      146\n",
       "Name: waterfront, dtype: int64"
      ]
     },
     "execution_count": 7,
     "metadata": {},
     "output_type": "execute_result"
    }
   ],
   "source": [
    "df_col_drops.waterfront.value_counts()"
   ]
  },
  {
   "cell_type": "markdown",
   "metadata": {},
   "source": [
    "Only 146 have a waterfront view. Since this is a binary-filled column, I believe we can fill in all NaNs with a zero value. This makes sense, as NaNs almost certainly denotes the absence of a waterfront view."
   ]
  },
  {
   "cell_type": "code",
   "execution_count": 8,
   "metadata": {},
   "outputs": [
    {
     "data": {
      "text/html": [
       "<div>\n",
       "<style scoped>\n",
       "    .dataframe tbody tr th:only-of-type {\n",
       "        vertical-align: middle;\n",
       "    }\n",
       "\n",
       "    .dataframe tbody tr th {\n",
       "        vertical-align: top;\n",
       "    }\n",
       "\n",
       "    .dataframe thead th {\n",
       "        text-align: right;\n",
       "    }\n",
       "</style>\n",
       "<table border=\"1\" class=\"dataframe\">\n",
       "  <thead>\n",
       "    <tr style=\"text-align: right;\">\n",
       "      <th></th>\n",
       "      <th>price</th>\n",
       "      <th>bedrooms</th>\n",
       "      <th>bathrooms</th>\n",
       "      <th>sqft_living</th>\n",
       "      <th>sqft_lot</th>\n",
       "      <th>floors</th>\n",
       "      <th>waterfront</th>\n",
       "      <th>condition</th>\n",
       "      <th>grade</th>\n",
       "      <th>yr_built</th>\n",
       "      <th>lat</th>\n",
       "      <th>long</th>\n",
       "    </tr>\n",
       "  </thead>\n",
       "  <tbody>\n",
       "    <tr>\n",
       "      <th>0</th>\n",
       "      <td>221900.0</td>\n",
       "      <td>3</td>\n",
       "      <td>1.00</td>\n",
       "      <td>1180</td>\n",
       "      <td>5650</td>\n",
       "      <td>1.0</td>\n",
       "      <td>0.0</td>\n",
       "      <td>3</td>\n",
       "      <td>7</td>\n",
       "      <td>1955</td>\n",
       "      <td>47.5112</td>\n",
       "      <td>-122.257</td>\n",
       "    </tr>\n",
       "    <tr>\n",
       "      <th>1</th>\n",
       "      <td>538000.0</td>\n",
       "      <td>3</td>\n",
       "      <td>2.25</td>\n",
       "      <td>2570</td>\n",
       "      <td>7242</td>\n",
       "      <td>2.0</td>\n",
       "      <td>0.0</td>\n",
       "      <td>3</td>\n",
       "      <td>7</td>\n",
       "      <td>1951</td>\n",
       "      <td>47.7210</td>\n",
       "      <td>-122.319</td>\n",
       "    </tr>\n",
       "    <tr>\n",
       "      <th>2</th>\n",
       "      <td>180000.0</td>\n",
       "      <td>2</td>\n",
       "      <td>1.00</td>\n",
       "      <td>770</td>\n",
       "      <td>10000</td>\n",
       "      <td>1.0</td>\n",
       "      <td>0.0</td>\n",
       "      <td>3</td>\n",
       "      <td>6</td>\n",
       "      <td>1933</td>\n",
       "      <td>47.7379</td>\n",
       "      <td>-122.233</td>\n",
       "    </tr>\n",
       "    <tr>\n",
       "      <th>3</th>\n",
       "      <td>604000.0</td>\n",
       "      <td>4</td>\n",
       "      <td>3.00</td>\n",
       "      <td>1960</td>\n",
       "      <td>5000</td>\n",
       "      <td>1.0</td>\n",
       "      <td>0.0</td>\n",
       "      <td>5</td>\n",
       "      <td>7</td>\n",
       "      <td>1965</td>\n",
       "      <td>47.5208</td>\n",
       "      <td>-122.393</td>\n",
       "    </tr>\n",
       "    <tr>\n",
       "      <th>4</th>\n",
       "      <td>510000.0</td>\n",
       "      <td>3</td>\n",
       "      <td>2.00</td>\n",
       "      <td>1680</td>\n",
       "      <td>8080</td>\n",
       "      <td>1.0</td>\n",
       "      <td>0.0</td>\n",
       "      <td>3</td>\n",
       "      <td>8</td>\n",
       "      <td>1987</td>\n",
       "      <td>47.6168</td>\n",
       "      <td>-122.045</td>\n",
       "    </tr>\n",
       "  </tbody>\n",
       "</table>\n",
       "</div>"
      ],
      "text/plain": [
       "      price  bedrooms  bathrooms  sqft_living  sqft_lot  floors  waterfront  \\\n",
       "0  221900.0         3       1.00         1180      5650     1.0         0.0   \n",
       "1  538000.0         3       2.25         2570      7242     2.0         0.0   \n",
       "2  180000.0         2       1.00          770     10000     1.0         0.0   \n",
       "3  604000.0         4       3.00         1960      5000     1.0         0.0   \n",
       "4  510000.0         3       2.00         1680      8080     1.0         0.0   \n",
       "\n",
       "   condition  grade  yr_built      lat     long  \n",
       "0          3      7      1955  47.5112 -122.257  \n",
       "1          3      7      1951  47.7210 -122.319  \n",
       "2          3      6      1933  47.7379 -122.233  \n",
       "3          5      7      1965  47.5208 -122.393  \n",
       "4          3      8      1987  47.6168 -122.045  "
      ]
     },
     "metadata": {},
     "output_type": "display_data"
    }
   ],
   "source": [
    "df_col_drops.waterfront.fillna(0, inplace=True)\n",
    "display(df_col_drops.head())"
   ]
  },
  {
   "cell_type": "code",
   "execution_count": 9,
   "metadata": {},
   "outputs": [
    {
     "data": {
      "text/html": [
       "<div>\n",
       "<style scoped>\n",
       "    .dataframe tbody tr th:only-of-type {\n",
       "        vertical-align: middle;\n",
       "    }\n",
       "\n",
       "    .dataframe tbody tr th {\n",
       "        vertical-align: top;\n",
       "    }\n",
       "\n",
       "    .dataframe thead th {\n",
       "        text-align: right;\n",
       "    }\n",
       "</style>\n",
       "<table border=\"1\" class=\"dataframe\">\n",
       "  <thead>\n",
       "    <tr style=\"text-align: right;\">\n",
       "      <th></th>\n",
       "      <th>price</th>\n",
       "      <th>bedrooms</th>\n",
       "      <th>bathrooms</th>\n",
       "      <th>sqft_living</th>\n",
       "      <th>sqft_lot</th>\n",
       "      <th>floors</th>\n",
       "      <th>waterfront</th>\n",
       "      <th>condition</th>\n",
       "      <th>grade</th>\n",
       "      <th>yr_built</th>\n",
       "      <th>lat</th>\n",
       "      <th>long</th>\n",
       "    </tr>\n",
       "  </thead>\n",
       "  <tbody>\n",
       "    <tr>\n",
       "      <th>count</th>\n",
       "      <td>2.159700e+04</td>\n",
       "      <td>21597.000000</td>\n",
       "      <td>21597.000000</td>\n",
       "      <td>21597.000000</td>\n",
       "      <td>2.159700e+04</td>\n",
       "      <td>21597.000000</td>\n",
       "      <td>21597.000000</td>\n",
       "      <td>21597.000000</td>\n",
       "      <td>21597.000000</td>\n",
       "      <td>21597.000000</td>\n",
       "      <td>21597.000000</td>\n",
       "      <td>21597.000000</td>\n",
       "    </tr>\n",
       "    <tr>\n",
       "      <th>mean</th>\n",
       "      <td>5.402966e+05</td>\n",
       "      <td>3.373200</td>\n",
       "      <td>2.115826</td>\n",
       "      <td>2080.321850</td>\n",
       "      <td>1.509941e+04</td>\n",
       "      <td>1.494096</td>\n",
       "      <td>0.006760</td>\n",
       "      <td>3.409825</td>\n",
       "      <td>7.657915</td>\n",
       "      <td>1970.999676</td>\n",
       "      <td>47.560093</td>\n",
       "      <td>-122.213982</td>\n",
       "    </tr>\n",
       "    <tr>\n",
       "      <th>std</th>\n",
       "      <td>3.673681e+05</td>\n",
       "      <td>0.926299</td>\n",
       "      <td>0.768984</td>\n",
       "      <td>918.106125</td>\n",
       "      <td>4.141264e+04</td>\n",
       "      <td>0.539683</td>\n",
       "      <td>0.081944</td>\n",
       "      <td>0.650546</td>\n",
       "      <td>1.173200</td>\n",
       "      <td>29.375234</td>\n",
       "      <td>0.138552</td>\n",
       "      <td>0.140724</td>\n",
       "    </tr>\n",
       "    <tr>\n",
       "      <th>min</th>\n",
       "      <td>7.800000e+04</td>\n",
       "      <td>1.000000</td>\n",
       "      <td>0.500000</td>\n",
       "      <td>370.000000</td>\n",
       "      <td>5.200000e+02</td>\n",
       "      <td>1.000000</td>\n",
       "      <td>0.000000</td>\n",
       "      <td>1.000000</td>\n",
       "      <td>3.000000</td>\n",
       "      <td>1900.000000</td>\n",
       "      <td>47.155900</td>\n",
       "      <td>-122.519000</td>\n",
       "    </tr>\n",
       "    <tr>\n",
       "      <th>25%</th>\n",
       "      <td>3.220000e+05</td>\n",
       "      <td>3.000000</td>\n",
       "      <td>1.750000</td>\n",
       "      <td>1430.000000</td>\n",
       "      <td>5.040000e+03</td>\n",
       "      <td>1.000000</td>\n",
       "      <td>0.000000</td>\n",
       "      <td>3.000000</td>\n",
       "      <td>7.000000</td>\n",
       "      <td>1951.000000</td>\n",
       "      <td>47.471100</td>\n",
       "      <td>-122.328000</td>\n",
       "    </tr>\n",
       "    <tr>\n",
       "      <th>50%</th>\n",
       "      <td>4.500000e+05</td>\n",
       "      <td>3.000000</td>\n",
       "      <td>2.250000</td>\n",
       "      <td>1910.000000</td>\n",
       "      <td>7.618000e+03</td>\n",
       "      <td>1.500000</td>\n",
       "      <td>0.000000</td>\n",
       "      <td>3.000000</td>\n",
       "      <td>7.000000</td>\n",
       "      <td>1975.000000</td>\n",
       "      <td>47.571800</td>\n",
       "      <td>-122.231000</td>\n",
       "    </tr>\n",
       "    <tr>\n",
       "      <th>75%</th>\n",
       "      <td>6.450000e+05</td>\n",
       "      <td>4.000000</td>\n",
       "      <td>2.500000</td>\n",
       "      <td>2550.000000</td>\n",
       "      <td>1.068500e+04</td>\n",
       "      <td>2.000000</td>\n",
       "      <td>0.000000</td>\n",
       "      <td>4.000000</td>\n",
       "      <td>8.000000</td>\n",
       "      <td>1997.000000</td>\n",
       "      <td>47.678000</td>\n",
       "      <td>-122.125000</td>\n",
       "    </tr>\n",
       "    <tr>\n",
       "      <th>max</th>\n",
       "      <td>7.700000e+06</td>\n",
       "      <td>33.000000</td>\n",
       "      <td>8.000000</td>\n",
       "      <td>13540.000000</td>\n",
       "      <td>1.651359e+06</td>\n",
       "      <td>3.500000</td>\n",
       "      <td>1.000000</td>\n",
       "      <td>5.000000</td>\n",
       "      <td>13.000000</td>\n",
       "      <td>2015.000000</td>\n",
       "      <td>47.777600</td>\n",
       "      <td>-121.315000</td>\n",
       "    </tr>\n",
       "  </tbody>\n",
       "</table>\n",
       "</div>"
      ],
      "text/plain": [
       "              price      bedrooms     bathrooms   sqft_living      sqft_lot  \\\n",
       "count  2.159700e+04  21597.000000  21597.000000  21597.000000  2.159700e+04   \n",
       "mean   5.402966e+05      3.373200      2.115826   2080.321850  1.509941e+04   \n",
       "std    3.673681e+05      0.926299      0.768984    918.106125  4.141264e+04   \n",
       "min    7.800000e+04      1.000000      0.500000    370.000000  5.200000e+02   \n",
       "25%    3.220000e+05      3.000000      1.750000   1430.000000  5.040000e+03   \n",
       "50%    4.500000e+05      3.000000      2.250000   1910.000000  7.618000e+03   \n",
       "75%    6.450000e+05      4.000000      2.500000   2550.000000  1.068500e+04   \n",
       "max    7.700000e+06     33.000000      8.000000  13540.000000  1.651359e+06   \n",
       "\n",
       "             floors    waterfront     condition         grade      yr_built  \\\n",
       "count  21597.000000  21597.000000  21597.000000  21597.000000  21597.000000   \n",
       "mean       1.494096      0.006760      3.409825      7.657915   1970.999676   \n",
       "std        0.539683      0.081944      0.650546      1.173200     29.375234   \n",
       "min        1.000000      0.000000      1.000000      3.000000   1900.000000   \n",
       "25%        1.000000      0.000000      3.000000      7.000000   1951.000000   \n",
       "50%        1.500000      0.000000      3.000000      7.000000   1975.000000   \n",
       "75%        2.000000      0.000000      4.000000      8.000000   1997.000000   \n",
       "max        3.500000      1.000000      5.000000     13.000000   2015.000000   \n",
       "\n",
       "                lat          long  \n",
       "count  21597.000000  21597.000000  \n",
       "mean      47.560093   -122.213982  \n",
       "std        0.138552      0.140724  \n",
       "min       47.155900   -122.519000  \n",
       "25%       47.471100   -122.328000  \n",
       "50%       47.571800   -122.231000  \n",
       "75%       47.678000   -122.125000  \n",
       "max       47.777600   -121.315000  "
      ]
     },
     "execution_count": 9,
     "metadata": {},
     "output_type": "execute_result"
    }
   ],
   "source": [
    "df_col_drops.describe()"
   ]
  },
  {
   "cell_type": "code",
   "execution_count": 10,
   "metadata": {},
   "outputs": [
    {
     "data": {
      "text/plain": [
       "Index(['price', 'bedrooms', 'bathrooms', 'sqft_living', 'sqft_lot', 'floors',\n",
       "       'waterfront', 'condition', 'grade', 'yr_built', 'lat', 'long'],\n",
       "      dtype='object')"
      ]
     },
     "execution_count": 10,
     "metadata": {},
     "output_type": "execute_result"
    }
   ],
   "source": [
    "df_col_drops.columns"
   ]
  },
  {
   "cell_type": "code",
   "execution_count": 11,
   "metadata": {},
   "outputs": [
    {
     "data": {
      "image/png": "[encoded data removed]",
      "text/plain": [
       "<Figure size 1440x1080 with 12 Axes>"
      ]
     },
     "metadata": {
      "needs_background": "light"
     },
     "output_type": "display_data"
    }
   ],
   "source": [
    "#iterating over all columns except id to see general distributions\n",
    "\n",
    "df_col_drops.hist(figsize = (20,15));"
   ]
  },
  {
   "cell_type": "markdown",
   "metadata": {},
   "source": [
    "It appears that we have some outliers in this data, so it's a little difficult to get a sense for what some the distrubutions actually are. \n",
    "\n",
    "Specifically, I'm seeing a single entry priced at 7.7 million. \n",
    "\n",
    "I also can't really tell what the bedroom distribution is with an outlier of 33. \n",
    "\n",
    "sqft_lot has only a single column in this view and the mean is vastly different from the median. We will need to take a closer look at this as well. \n",
    "\n",
    "Condition and grade seem to be relatively normal."
   ]
  },
  {
   "cell_type": "code",
   "execution_count": 12,
   "metadata": {
    "scrolled": false
   },
   "outputs": [
    {
     "data": {
      "image/png": "[encoded data removed]",
      "text/plain": [
       "<Figure size 432x432 with 3 Axes>"
      ]
     },
     "metadata": {
      "needs_background": "light"
     },
     "output_type": "display_data"
    },
    {
     "data": {
      "image/png": "[encoded data removed]",
      "text/plain": [
       "<Figure size 432x432 with 3 Axes>"
      ]
     },
     "metadata": {
      "needs_background": "light"
     },
     "output_type": "display_data"
    },
    {
     "data": {
      "image/png": "[encoded data removed]",
      "text/plain": [
       "<Figure size 432x432 with 3 Axes>"
      ]
     },
     "metadata": {
      "needs_background": "light"
     },
     "output_type": "display_data"
    },
    {
     "data": {
      "image/png": "[encoded data removed]",
      "text/plain": [
       "<Figure size 432x432 with 3 Axes>"
      ]
     },
     "metadata": {
      "needs_background": "light"
     },
     "output_type": "display_data"
    },
    {
     "data": {
      "image/png": "[encoded data removed]",
      "text/plain": [
       "<Figure size 432x432 with 3 Axes>"
      ]
     },
     "metadata": {
      "needs_background": "light"
     },
     "output_type": "display_data"
    },
    {
     "data": {
      "image/png": "[encoded data removed]",
      "text/plain": [
       "<Figure size 432x432 with 3 Axes>"
      ]
     },
     "metadata": {
      "needs_background": "light"
     },
     "output_type": "display_data"
    },
    {
     "data": {
      "image/png": "[encoded data removed]",
      "text/plain": [
       "<Figure size 432x432 with 3 Axes>"
      ]
     },
     "metadata": {
      "needs_background": "light"
     },
     "output_type": "display_data"
    },
    {
     "data": {
      "image/png": "[encoded data removed]",
      "text/plain": [
       "<Figure size 432x432 with 3 Axes>"
      ]
     },
     "metadata": {
      "needs_background": "light"
     },
     "output_type": "display_data"
    },
    {
     "data": {
      "image/png": "[encoded data removed]",
      "text/plain": [
       "<Figure size 432x432 with 3 Axes>"
      ]
     },
     "metadata": {
      "needs_background": "light"
     },
     "output_type": "display_data"
    },
    {
     "data": {
      "image/png": "[encoded data removed]",
      "text/plain": [
       "<Figure size 432x432 with 3 Axes>"
      ]
     },
     "metadata": {
      "needs_background": "light"
     },
     "output_type": "display_data"
    },
    {
     "data": {
      "image/png": "[encoded data removed]",
      "text/plain": [
       "<Figure size 432x432 with 3 Axes>"
      ]
     },
     "metadata": {
      "needs_background": "light"
     },
     "output_type": "display_data"
    }
   ],
   "source": [
    "#Check for linearity via jointplots\n",
    "for col_name in df_col_drops.columns[1:]:\n",
    "    ax = sns.jointplot(x=col_name, y='price', data=df_col_drops, kind='reg');"
   ]
  },
  {
   "cell_type": "markdown",
   "metadata": {},
   "source": [
    "It worth noting that these jointplots reveal several of these columns to have linear relations with price.  \n",
    "\n",
    "**Strong Linear Relation**: sqft_living, grade\n",
    "\n",
    "**Somehwat Linear**: bathrooms, sqft_lot, waterfront\n",
    "\n",
    "**Little to No Linear Relation**: bedrooms, floors, condition, yr_built, lat, long"
   ]
  },
  {
   "cell_type": "markdown",
   "metadata": {},
   "source": [
    "It appears that the features that have the largest impact on the price of a home are the square footage of the home, as well as the Grade- this rating is given by the King County Housing System. I have copied this system below for more context.\n",
    "\n",
    "***\n",
    "1-3 Falls short of minimum building standards. Normally cabin or inferior structure.\n",
    "\n",
    "4 Generally older, low quality construction. Does not meet code.\n",
    "\n",
    "5 Low construction costs and workmanship. Small, simple design.\n",
    "\n",
    "6 Lowest grade currently meeting building code. Low quality materials and simple designs.\n",
    "\n",
    "7 Average grade of construction and design. Commonly seen in plats and older sub-divisions.\n",
    "\n",
    "8 Just above average in construction and design. Usually better materials in both the exterior and interior finish work.\n",
    "\n",
    "9 Better architectural design with extra interior and exterior design and quality.\n",
    "\n",
    "10 Homes of this quality generally have high quality features. Finish work is better and more design quality is seen in the floor plans. Generally have a larger square footage.\n",
    "\n",
    "11 Custom design and higher quality finish work with added amenities of solid woods, bathroom fixtures and more luxurious options.\n",
    "\n",
    "12 Custom design and excellent builders. All materials are of the highest quality and all conveniences are present.\n",
    "\n",
    "13 Generally custom designed and built. Mansion level. Large amount of highest quality cabinet work, wood trim, marble, entry ways etc."
   ]
  },
  {
   "cell_type": "markdown",
   "metadata": {},
   "source": [
    "## Feature Engineering\n",
    "\n",
    "Two fields jump out at me: latitude and longitude. As we already know, this data is taken from the King County Housing dataset, which includes the city of Seattle.  Let's engineer a feature that determines the distance from \"downtown\" using lat and long.\n",
    "\n"
   ]
  },
  {
   "cell_type": "code",
   "execution_count": 13,
   "metadata": {},
   "outputs": [
    {
     "name": "stdout",
     "output_type": "stream",
     "text": [
      "<class 'tuple'>\n",
      "(47.5112, -122.257)\n"
     ]
    }
   ],
   "source": [
    "#using 47.605° N, 122.334° W as the exact point for downton (via Google)\n",
    "dtwn_lat = 47.605\n",
    "dtwn_long = -122.334\n",
    "dtwn_coords = (dtwn_lat, dtwn_long)\n",
    "print(type(dtwn_coords))\n",
    "\n",
    "second_coords = (df_col_drops['lat'][0], df_col_drops['long'][0])\n",
    "print(second_coords)"
   ]
  },
  {
   "cell_type": "code",
   "execution_count": 14,
   "metadata": {},
   "outputs": [
    {
     "data": {
      "text/plain": [
       "11.923605090619347"
      ]
     },
     "execution_count": 14,
     "metadata": {},
     "output_type": "execute_result"
    }
   ],
   "source": [
    "import haversine as hs\n",
    "\n",
    "#solving for a single location, in kilometers\n",
    "hs.haversine(dtwn_coords, second_coords)"
   ]
  },
  {
   "cell_type": "code",
   "execution_count": 15,
   "metadata": {},
   "outputs": [
    {
     "name": "stderr",
     "output_type": "stream",
     "text": [
      "<ipython-input-15-edcbe8011a22>:4: SettingWithCopyWarning: \n",
      "A value is trying to be set on a copy of a slice from a DataFrame\n",
      "\n",
      "See the caveats in the documentation: https://pandas.pydata.org/pandas-docs/stable/user_guide/indexing.html#returning-a-view-versus-a-copy\n",
      "  df_col_drops['dist_to_dtwn'][index] = hs.haversine(dtwn_coords, point2=(df_col_drops['lat'][index], df_col_drops['long'][index]) )\n"
     ]
    }
   ],
   "source": [
    "#creating feature column\n",
    "df_col_drops['dist_to_dtwn'] = df_col_drops.lat\n",
    "for index, row in df_col_drops.iterrows():\n",
    "    df_col_drops['dist_to_dtwn'][index] = hs.haversine(dtwn_coords, point2=(df_col_drops['lat'][index], df_col_drops['long'][index]) )"
   ]
  },
  {
   "cell_type": "code",
   "execution_count": 16,
   "metadata": {},
   "outputs": [
    {
     "data": {
      "text/html": [
       "<div>\n",
       "<style scoped>\n",
       "    .dataframe tbody tr th:only-of-type {\n",
       "        vertical-align: middle;\n",
       "    }\n",
       "\n",
       "    .dataframe tbody tr th {\n",
       "        vertical-align: top;\n",
       "    }\n",
       "\n",
       "    .dataframe thead th {\n",
       "        text-align: right;\n",
       "    }\n",
       "</style>\n",
       "<table border=\"1\" class=\"dataframe\">\n",
       "  <thead>\n",
       "    <tr style=\"text-align: right;\">\n",
       "      <th></th>\n",
       "      <th>price</th>\n",
       "      <th>bedrooms</th>\n",
       "      <th>bathrooms</th>\n",
       "      <th>sqft_living</th>\n",
       "      <th>sqft_lot</th>\n",
       "      <th>floors</th>\n",
       "      <th>waterfront</th>\n",
       "      <th>condition</th>\n",
       "      <th>grade</th>\n",
       "      <th>yr_built</th>\n",
       "      <th>lat</th>\n",
       "      <th>long</th>\n",
       "      <th>dist_to_dtwn</th>\n",
       "    </tr>\n",
       "  </thead>\n",
       "  <tbody>\n",
       "    <tr>\n",
       "      <th>0</th>\n",
       "      <td>221900.0</td>\n",
       "      <td>3</td>\n",
       "      <td>1.00</td>\n",
       "      <td>1180</td>\n",
       "      <td>5650</td>\n",
       "      <td>1.0</td>\n",
       "      <td>0.0</td>\n",
       "      <td>3</td>\n",
       "      <td>7</td>\n",
       "      <td>1955</td>\n",
       "      <td>47.5112</td>\n",
       "      <td>-122.257</td>\n",
       "      <td>11.923605</td>\n",
       "    </tr>\n",
       "    <tr>\n",
       "      <th>1</th>\n",
       "      <td>538000.0</td>\n",
       "      <td>3</td>\n",
       "      <td>2.25</td>\n",
       "      <td>2570</td>\n",
       "      <td>7242</td>\n",
       "      <td>2.0</td>\n",
       "      <td>0.0</td>\n",
       "      <td>3</td>\n",
       "      <td>7</td>\n",
       "      <td>1951</td>\n",
       "      <td>47.7210</td>\n",
       "      <td>-122.319</td>\n",
       "      <td>12.947452</td>\n",
       "    </tr>\n",
       "    <tr>\n",
       "      <th>2</th>\n",
       "      <td>180000.0</td>\n",
       "      <td>2</td>\n",
       "      <td>1.00</td>\n",
       "      <td>770</td>\n",
       "      <td>10000</td>\n",
       "      <td>1.0</td>\n",
       "      <td>0.0</td>\n",
       "      <td>3</td>\n",
       "      <td>6</td>\n",
       "      <td>1933</td>\n",
       "      <td>47.7379</td>\n",
       "      <td>-122.233</td>\n",
       "      <td>16.600484</td>\n",
       "    </tr>\n",
       "    <tr>\n",
       "      <th>3</th>\n",
       "      <td>604000.0</td>\n",
       "      <td>4</td>\n",
       "      <td>3.00</td>\n",
       "      <td>1960</td>\n",
       "      <td>5000</td>\n",
       "      <td>1.0</td>\n",
       "      <td>0.0</td>\n",
       "      <td>5</td>\n",
       "      <td>7</td>\n",
       "      <td>1965</td>\n",
       "      <td>47.5208</td>\n",
       "      <td>-122.393</td>\n",
       "      <td>10.356458</td>\n",
       "    </tr>\n",
       "    <tr>\n",
       "      <th>4</th>\n",
       "      <td>510000.0</td>\n",
       "      <td>3</td>\n",
       "      <td>2.00</td>\n",
       "      <td>1680</td>\n",
       "      <td>8080</td>\n",
       "      <td>1.0</td>\n",
       "      <td>0.0</td>\n",
       "      <td>3</td>\n",
       "      <td>8</td>\n",
       "      <td>1987</td>\n",
       "      <td>47.6168</td>\n",
       "      <td>-122.045</td>\n",
       "      <td>21.704132</td>\n",
       "    </tr>\n",
       "    <tr>\n",
       "      <th>5</th>\n",
       "      <td>1230000.0</td>\n",
       "      <td>4</td>\n",
       "      <td>4.50</td>\n",
       "      <td>5420</td>\n",
       "      <td>101930</td>\n",
       "      <td>1.0</td>\n",
       "      <td>0.0</td>\n",
       "      <td>3</td>\n",
       "      <td>11</td>\n",
       "      <td>2001</td>\n",
       "      <td>47.6561</td>\n",
       "      <td>-122.005</td>\n",
       "      <td>25.300013</td>\n",
       "    </tr>\n",
       "    <tr>\n",
       "      <th>6</th>\n",
       "      <td>257500.0</td>\n",
       "      <td>3</td>\n",
       "      <td>2.25</td>\n",
       "      <td>1715</td>\n",
       "      <td>6819</td>\n",
       "      <td>2.0</td>\n",
       "      <td>0.0</td>\n",
       "      <td>3</td>\n",
       "      <td>7</td>\n",
       "      <td>1995</td>\n",
       "      <td>47.3097</td>\n",
       "      <td>-122.327</td>\n",
       "      <td>32.840124</td>\n",
       "    </tr>\n",
       "    <tr>\n",
       "      <th>7</th>\n",
       "      <td>291850.0</td>\n",
       "      <td>3</td>\n",
       "      <td>1.50</td>\n",
       "      <td>1060</td>\n",
       "      <td>9711</td>\n",
       "      <td>1.0</td>\n",
       "      <td>0.0</td>\n",
       "      <td>3</td>\n",
       "      <td>7</td>\n",
       "      <td>1963</td>\n",
       "      <td>47.4095</td>\n",
       "      <td>-122.315</td>\n",
       "      <td>21.785433</td>\n",
       "    </tr>\n",
       "    <tr>\n",
       "      <th>8</th>\n",
       "      <td>229500.0</td>\n",
       "      <td>3</td>\n",
       "      <td>1.00</td>\n",
       "      <td>1780</td>\n",
       "      <td>7470</td>\n",
       "      <td>1.0</td>\n",
       "      <td>0.0</td>\n",
       "      <td>3</td>\n",
       "      <td>7</td>\n",
       "      <td>1960</td>\n",
       "      <td>47.5123</td>\n",
       "      <td>-122.337</td>\n",
       "      <td>10.310242</td>\n",
       "    </tr>\n",
       "    <tr>\n",
       "      <th>9</th>\n",
       "      <td>323000.0</td>\n",
       "      <td>3</td>\n",
       "      <td>2.50</td>\n",
       "      <td>1890</td>\n",
       "      <td>6560</td>\n",
       "      <td>2.0</td>\n",
       "      <td>0.0</td>\n",
       "      <td>3</td>\n",
       "      <td>7</td>\n",
       "      <td>2003</td>\n",
       "      <td>47.3684</td>\n",
       "      <td>-122.031</td>\n",
       "      <td>34.792535</td>\n",
       "    </tr>\n",
       "  </tbody>\n",
       "</table>\n",
       "</div>"
      ],
      "text/plain": [
       "       price  bedrooms  bathrooms  sqft_living  sqft_lot  floors  waterfront  \\\n",
       "0   221900.0         3       1.00         1180      5650     1.0         0.0   \n",
       "1   538000.0         3       2.25         2570      7242     2.0         0.0   \n",
       "2   180000.0         2       1.00          770     10000     1.0         0.0   \n",
       "3   604000.0         4       3.00         1960      5000     1.0         0.0   \n",
       "4   510000.0         3       2.00         1680      8080     1.0         0.0   \n",
       "5  1230000.0         4       4.50         5420    101930     1.0         0.0   \n",
       "6   257500.0         3       2.25         1715      6819     2.0         0.0   \n",
       "7   291850.0         3       1.50         1060      9711     1.0         0.0   \n",
       "8   229500.0         3       1.00         1780      7470     1.0         0.0   \n",
       "9   323000.0         3       2.50         1890      6560     2.0         0.0   \n",
       "\n",
       "   condition  grade  yr_built      lat     long  dist_to_dtwn  \n",
       "0          3      7      1955  47.5112 -122.257     11.923605  \n",
       "1          3      7      1951  47.7210 -122.319     12.947452  \n",
       "2          3      6      1933  47.7379 -122.233     16.600484  \n",
       "3          5      7      1965  47.5208 -122.393     10.356458  \n",
       "4          3      8      1987  47.6168 -122.045     21.704132  \n",
       "5          3     11      2001  47.6561 -122.005     25.300013  \n",
       "6          3      7      1995  47.3097 -122.327     32.840124  \n",
       "7          3      7      1963  47.4095 -122.315     21.785433  \n",
       "8          3      7      1960  47.5123 -122.337     10.310242  \n",
       "9          3      7      2003  47.3684 -122.031     34.792535  "
      ]
     },
     "execution_count": 16,
     "metadata": {},
     "output_type": "execute_result"
    }
   ],
   "source": [
    "df_col_drops.head(10)"
   ]
  },
  {
   "cell_type": "code",
   "execution_count": 17,
   "metadata": {},
   "outputs": [],
   "source": [
    "#dropping these so we don't confuse our model- dist_to_dtwn is derived from lat and long\n",
    "df_col_drops = df_col_drops.drop(['lat', 'long'], axis=1)"
   ]
  },
  {
   "cell_type": "markdown",
   "metadata": {},
   "source": [
    "# Modeling \n",
    "***\n",
    "## Model 1"
   ]
  },
  {
   "cell_type": "code",
   "execution_count": 18,
   "metadata": {},
   "outputs": [
    {
     "name": "stdout",
     "output_type": "stream",
     "text": [
      "['bedrooms', 'bathrooms', 'sqft_living', 'sqft_lot', 'floors', 'waterfront', 'condition', 'grade', 'yr_built', 'dist_to_dtwn']\n"
     ]
    }
   ],
   "source": [
    "outcome = 'price'\n",
    "x_cols = list(df_col_drops.columns)\n",
    "x_cols.remove(outcome)\n",
    "print(x_cols)"
   ]
  },
  {
   "cell_type": "code",
   "execution_count": 19,
   "metadata": {},
   "outputs": [
    {
     "data": {
      "text/html": [
       "<table class=\"simpletable\">\n",
       "<caption>OLS Regression Results</caption>\n",
       "<tr>\n",
       "  <th>Dep. Variable:</th>          <td>price</td>      <th>  R-squared:         </th>  <td>   0.697</td>  \n",
       "</tr>\n",
       "<tr>\n",
       "  <th>Model:</th>                   <td>OLS</td>       <th>  Adj. R-squared:    </th>  <td>   0.697</td>  \n",
       "</tr>\n",
       "<tr>\n",
       "  <th>Method:</th>             <td>Least Squares</td>  <th>  F-statistic:       </th>  <td>   4972.</td>  \n",
       "</tr>\n",
       "<tr>\n",
       "  <th>Date:</th>             <td>Tue, 30 Mar 2021</td> <th>  Prob (F-statistic):</th>   <td>  0.00</td>   \n",
       "</tr>\n",
       "<tr>\n",
       "  <th>Time:</th>                 <td>13:45:06</td>     <th>  Log-Likelihood:    </th> <td>-2.9449e+05</td>\n",
       "</tr>\n",
       "<tr>\n",
       "  <th>No. Observations:</th>      <td> 21597</td>      <th>  AIC:               </th>  <td>5.890e+05</td> \n",
       "</tr>\n",
       "<tr>\n",
       "  <th>Df Residuals:</th>          <td> 21586</td>      <th>  BIC:               </th>  <td>5.891e+05</td> \n",
       "</tr>\n",
       "<tr>\n",
       "  <th>Df Model:</th>              <td>    10</td>      <th>                     </th>      <td> </td>     \n",
       "</tr>\n",
       "<tr>\n",
       "  <th>Covariance Type:</th>      <td>nonrobust</td>    <th>                     </th>      <td> </td>     \n",
       "</tr>\n",
       "</table>\n",
       "<table class=\"simpletable\">\n",
       "<tr>\n",
       "        <td></td>          <th>coef</th>     <th>std err</th>      <th>t</th>      <th>P>|t|</th>  <th>[0.025</th>    <th>0.975]</th>  \n",
       "</tr>\n",
       "<tr>\n",
       "  <th>const</th>        <td> 3.051e+06</td> <td> 1.34e+05</td> <td>   22.743</td> <td> 0.000</td> <td> 2.79e+06</td> <td> 3.31e+06</td>\n",
       "</tr>\n",
       "<tr>\n",
       "  <th>bedrooms</th>     <td>-3.832e+04</td> <td> 1896.893</td> <td>  -20.200</td> <td> 0.000</td> <td> -4.2e+04</td> <td>-3.46e+04</td>\n",
       "</tr>\n",
       "<tr>\n",
       "  <th>bathrooms</th>    <td> 3.237e+04</td> <td> 3208.274</td> <td>   10.090</td> <td> 0.000</td> <td> 2.61e+04</td> <td> 3.87e+04</td>\n",
       "</tr>\n",
       "<tr>\n",
       "  <th>sqft_living</th>  <td>  199.2863</td> <td>    3.075</td> <td>   64.806</td> <td> 0.000</td> <td>  193.259</td> <td>  205.314</td>\n",
       "</tr>\n",
       "<tr>\n",
       "  <th>sqft_lot</th>     <td>    0.2810</td> <td>    0.035</td> <td>    8.009</td> <td> 0.000</td> <td>    0.212</td> <td>    0.350</td>\n",
       "</tr>\n",
       "<tr>\n",
       "  <th>floors</th>       <td>-6520.1077</td> <td> 3230.126</td> <td>   -2.019</td> <td> 0.044</td> <td>-1.29e+04</td> <td> -188.821</td>\n",
       "</tr>\n",
       "<tr>\n",
       "  <th>waterfront</th>   <td> 7.655e+05</td> <td>  1.7e+04</td> <td>   45.101</td> <td> 0.000</td> <td> 7.32e+05</td> <td> 7.99e+05</td>\n",
       "</tr>\n",
       "<tr>\n",
       "  <th>condition</th>    <td> 2.762e+04</td> <td> 2304.485</td> <td>   11.984</td> <td> 0.000</td> <td> 2.31e+04</td> <td> 3.21e+04</td>\n",
       "</tr>\n",
       "<tr>\n",
       "  <th>grade</th>        <td> 1.061e+05</td> <td> 2031.685</td> <td>   52.225</td> <td> 0.000</td> <td> 1.02e+05</td> <td>  1.1e+05</td>\n",
       "</tr>\n",
       "<tr>\n",
       "  <th>yr_built</th>     <td>-1825.9098</td> <td>   70.098</td> <td>  -26.048</td> <td> 0.000</td> <td>-1963.307</td> <td>-1688.513</td>\n",
       "</tr>\n",
       "<tr>\n",
       "  <th>dist_to_dtwn</th> <td>-9300.9875</td> <td>  153.320</td> <td>  -60.664</td> <td> 0.000</td> <td>-9601.507</td> <td>-9000.468</td>\n",
       "</tr>\n",
       "</table>\n",
       "<table class=\"simpletable\">\n",
       "<tr>\n",
       "  <th>Omnibus:</th>       <td>17513.413</td> <th>  Durbin-Watson:     </th>  <td>   1.988</td>  \n",
       "</tr>\n",
       "<tr>\n",
       "  <th>Prob(Omnibus):</th>  <td> 0.000</td>   <th>  Jarque-Bera (JB):  </th> <td>1514200.406</td>\n",
       "</tr>\n",
       "<tr>\n",
       "  <th>Skew:</th>           <td> 3.344</td>   <th>  Prob(JB):          </th>  <td>    0.00</td>  \n",
       "</tr>\n",
       "<tr>\n",
       "  <th>Kurtosis:</th>       <td>43.471</td>   <th>  Cond. No.          </th>  <td>4.30e+06</td>  \n",
       "</tr>\n",
       "</table><br/><br/>Notes:<br/>[1] Standard Errors assume that the covariance matrix of the errors is correctly specified.<br/>[2] The condition number is large, 4.3e+06. This might indicate that there are<br/>strong multicollinearity or other numerical problems."
      ],
      "text/plain": [
       "<class 'statsmodels.iolib.summary.Summary'>\n",
       "\"\"\"\n",
       "                            OLS Regression Results                            \n",
       "==============================================================================\n",
       "Dep. Variable:                  price   R-squared:                       0.697\n",
       "Model:                            OLS   Adj. R-squared:                  0.697\n",
       "Method:                 Least Squares   F-statistic:                     4972.\n",
       "Date:                Tue, 30 Mar 2021   Prob (F-statistic):               0.00\n",
       "Time:                        13:45:06   Log-Likelihood:            -2.9449e+05\n",
       "No. Observations:               21597   AIC:                         5.890e+05\n",
       "Df Residuals:                   21586   BIC:                         5.891e+05\n",
       "Df Model:                          10                                         \n",
       "Covariance Type:            nonrobust                                         \n",
       "================================================================================\n",
       "                   coef    std err          t      P>|t|      [0.025      0.975]\n",
       "--------------------------------------------------------------------------------\n",
       "const         3.051e+06   1.34e+05     22.743      0.000    2.79e+06    3.31e+06\n",
       "bedrooms     -3.832e+04   1896.893    -20.200      0.000    -4.2e+04   -3.46e+04\n",
       "bathrooms     3.237e+04   3208.274     10.090      0.000    2.61e+04    3.87e+04\n",
       "sqft_living    199.2863      3.075     64.806      0.000     193.259     205.314\n",
       "sqft_lot         0.2810      0.035      8.009      0.000       0.212       0.350\n",
       "floors       -6520.1077   3230.126     -2.019      0.044   -1.29e+04    -188.821\n",
       "waterfront    7.655e+05    1.7e+04     45.101      0.000    7.32e+05    7.99e+05\n",
       "condition     2.762e+04   2304.485     11.984      0.000    2.31e+04    3.21e+04\n",
       "grade         1.061e+05   2031.685     52.225      0.000    1.02e+05     1.1e+05\n",
       "yr_built     -1825.9098     70.098    -26.048      0.000   -1963.307   -1688.513\n",
       "dist_to_dtwn -9300.9875    153.320    -60.664      0.000   -9601.507   -9000.468\n",
       "==============================================================================\n",
       "Omnibus:                    17513.413   Durbin-Watson:                   1.988\n",
       "Prob(Omnibus):                  0.000   Jarque-Bera (JB):          1514200.406\n",
       "Skew:                           3.344   Prob(JB):                         0.00\n",
       "Kurtosis:                      43.471   Cond. No.                     4.30e+06\n",
       "==============================================================================\n",
       "\n",
       "Notes:\n",
       "[1] Standard Errors assume that the covariance matrix of the errors is correctly specified.\n",
       "[2] The condition number is large, 4.3e+06. This might indicate that there are\n",
       "strong multicollinearity or other numerical problems.\n",
       "\"\"\""
      ]
     },
     "execution_count": 19,
     "metadata": {},
     "output_type": "execute_result"
    }
   ],
   "source": [
    "predictors = sm.add_constant(df_col_drops.drop('price',1))\n",
    "model_6 = sm.OLS(df_col_drops.price, predictors).fit()\n",
    "model_6.summary()"
   ]
  },
  {
   "cell_type": "code",
   "execution_count": 20,
   "metadata": {},
   "outputs": [],
   "source": [
    "price_log = np.log(df_col_drops.price)\n",
    "price_log = pd.DataFrame(price_log)\n",
    "\n",
    "X1= df_col_drops.drop('price', 1)\n",
    "y1= price_log"
   ]
  },
  {
   "cell_type": "code",
   "execution_count": 21,
   "metadata": {},
   "outputs": [],
   "source": [
    "X_train, X_test, y_train, y_test = train_test_split(X1, y1, test_size=0.2)"
   ]
  },
  {
   "cell_type": "code",
   "execution_count": 22,
   "metadata": {},
   "outputs": [
    {
     "name": "stderr",
     "output_type": "stream",
     "text": [
      "<ipython-input-22-c934d189158c>:3: SettingWithCopyWarning: \n",
      "A value is trying to be set on a copy of a slice from a DataFrame.\n",
      "Try using .loc[row_indexer,col_indexer] = value instead\n",
      "\n",
      "See the caveats in the documentation: https://pandas.pydata.org/pandas-docs/stable/user_guide/indexing.html#returning-a-view-versus-a-copy\n",
      "  X_train[col] = (X_train[col] - X_train[col].mean())/X_train[col].std()\n"
     ]
    },
    {
     "data": {
      "text/html": [
       "<div>\n",
       "<style scoped>\n",
       "    .dataframe tbody tr th:only-of-type {\n",
       "        vertical-align: middle;\n",
       "    }\n",
       "\n",
       "    .dataframe tbody tr th {\n",
       "        vertical-align: top;\n",
       "    }\n",
       "\n",
       "    .dataframe thead th {\n",
       "        text-align: right;\n",
       "    }\n",
       "</style>\n",
       "<table border=\"1\" class=\"dataframe\">\n",
       "  <thead>\n",
       "    <tr style=\"text-align: right;\">\n",
       "      <th></th>\n",
       "      <th>bedrooms</th>\n",
       "      <th>bathrooms</th>\n",
       "      <th>sqft_living</th>\n",
       "      <th>sqft_lot</th>\n",
       "      <th>floors</th>\n",
       "      <th>waterfront</th>\n",
       "      <th>condition</th>\n",
       "      <th>grade</th>\n",
       "      <th>yr_built</th>\n",
       "      <th>dist_to_dtwn</th>\n",
       "    </tr>\n",
       "  </thead>\n",
       "  <tbody>\n",
       "    <tr>\n",
       "      <th>17191</th>\n",
       "      <td>-0.397384</td>\n",
       "      <td>0.822925</td>\n",
       "      <td>0.555348</td>\n",
       "      <td>-0.073563</td>\n",
       "      <td>0.942671</td>\n",
       "      <td>-0.084328</td>\n",
       "      <td>-0.629776</td>\n",
       "      <td>1.992184</td>\n",
       "      <td>0.750444</td>\n",
       "      <td>-0.131523</td>\n",
       "    </tr>\n",
       "    <tr>\n",
       "      <th>2703</th>\n",
       "      <td>1.750468</td>\n",
       "      <td>-1.452008</td>\n",
       "      <td>-0.671083</td>\n",
       "      <td>-0.214435</td>\n",
       "      <td>0.942671</td>\n",
       "      <td>-0.084328</td>\n",
       "      <td>0.906820</td>\n",
       "      <td>-1.411506</td>\n",
       "      <td>-1.014159</td>\n",
       "      <td>-0.450646</td>\n",
       "    </tr>\n",
       "    <tr>\n",
       "      <th>18827</th>\n",
       "      <td>-1.471310</td>\n",
       "      <td>-0.152046</td>\n",
       "      <td>-0.573403</td>\n",
       "      <td>9.819461</td>\n",
       "      <td>0.013870</td>\n",
       "      <td>-0.084328</td>\n",
       "      <td>-2.166372</td>\n",
       "      <td>-0.560583</td>\n",
       "      <td>0.037816</td>\n",
       "      <td>1.792033</td>\n",
       "    </tr>\n",
       "    <tr>\n",
       "      <th>1104</th>\n",
       "      <td>-0.397384</td>\n",
       "      <td>-0.152046</td>\n",
       "      <td>-0.291215</td>\n",
       "      <td>-0.055764</td>\n",
       "      <td>-0.914932</td>\n",
       "      <td>-0.084328</td>\n",
       "      <td>0.906820</td>\n",
       "      <td>-0.560583</td>\n",
       "      <td>-0.369400</td>\n",
       "      <td>-0.366084</td>\n",
       "    </tr>\n",
       "    <tr>\n",
       "      <th>18444</th>\n",
       "      <td>0.676542</td>\n",
       "      <td>0.497935</td>\n",
       "      <td>0.381694</td>\n",
       "      <td>-0.216141</td>\n",
       "      <td>0.942671</td>\n",
       "      <td>-0.084328</td>\n",
       "      <td>-0.629776</td>\n",
       "      <td>0.290339</td>\n",
       "      <td>1.055856</td>\n",
       "      <td>1.270112</td>\n",
       "    </tr>\n",
       "  </tbody>\n",
       "</table>\n",
       "</div>"
      ],
      "text/plain": [
       "       bedrooms  bathrooms  sqft_living  sqft_lot    floors  waterfront  \\\n",
       "17191 -0.397384   0.822925     0.555348 -0.073563  0.942671   -0.084328   \n",
       "2703   1.750468  -1.452008    -0.671083 -0.214435  0.942671   -0.084328   \n",
       "18827 -1.471310  -0.152046    -0.573403  9.819461  0.013870   -0.084328   \n",
       "1104  -0.397384  -0.152046    -0.291215 -0.055764 -0.914932   -0.084328   \n",
       "18444  0.676542   0.497935     0.381694 -0.216141  0.942671   -0.084328   \n",
       "\n",
       "       condition     grade  yr_built  dist_to_dtwn  \n",
       "17191  -0.629776  1.992184  0.750444     -0.131523  \n",
       "2703    0.906820 -1.411506 -1.014159     -0.450646  \n",
       "18827  -2.166372 -0.560583  0.037816      1.792033  \n",
       "1104    0.906820 -0.560583 -0.369400     -0.366084  \n",
       "18444  -0.629776  0.290339  1.055856      1.270112  "
      ]
     },
     "metadata": {},
     "output_type": "display_data"
    },
    {
     "name": "stdout",
     "output_type": "stream",
     "text": [
      "17277 4320\n"
     ]
    }
   ],
   "source": [
    "#normalization\n",
    "for col in x_cols:\n",
    "    X_train[col] = (X_train[col] - X_train[col].mean())/X_train[col].std()\n",
    "display(X_train.head())\n",
    "print(len(X_train), len(X_test))"
   ]
  },
  {
   "cell_type": "code",
   "execution_count": 23,
   "metadata": {},
   "outputs": [
    {
     "data": {
      "text/html": [
       "<table class=\"simpletable\">\n",
       "<caption>OLS Regression Results</caption>\n",
       "<tr>\n",
       "  <th>Dep. Variable:</th>          <td>price</td>      <th>  R-squared:         </th> <td>   0.728</td>\n",
       "</tr>\n",
       "<tr>\n",
       "  <th>Model:</th>                   <td>OLS</td>       <th>  Adj. R-squared:    </th> <td>   0.728</td>\n",
       "</tr>\n",
       "<tr>\n",
       "  <th>Method:</th>             <td>Least Squares</td>  <th>  F-statistic:       </th> <td>   4617.</td>\n",
       "</tr>\n",
       "<tr>\n",
       "  <th>Date:</th>             <td>Tue, 30 Mar 2021</td> <th>  Prob (F-statistic):</th>  <td>  0.00</td> \n",
       "</tr>\n",
       "<tr>\n",
       "  <th>Time:</th>                 <td>13:45:06</td>     <th>  Log-Likelihood:    </th> <td> -2230.4</td>\n",
       "</tr>\n",
       "<tr>\n",
       "  <th>No. Observations:</th>      <td> 17277</td>      <th>  AIC:               </th> <td>   4483.</td>\n",
       "</tr>\n",
       "<tr>\n",
       "  <th>Df Residuals:</th>          <td> 17266</td>      <th>  BIC:               </th> <td>   4568.</td>\n",
       "</tr>\n",
       "<tr>\n",
       "  <th>Df Model:</th>              <td>    10</td>      <th>                     </th>     <td> </td>   \n",
       "</tr>\n",
       "<tr>\n",
       "  <th>Covariance Type:</th>      <td>nonrobust</td>    <th>                     </th>     <td> </td>   \n",
       "</tr>\n",
       "</table>\n",
       "<table class=\"simpletable\">\n",
       "<tr>\n",
       "        <td></td>          <th>coef</th>     <th>std err</th>      <th>t</th>      <th>P>|t|</th>  <th>[0.025</th>    <th>0.975]</th>  \n",
       "</tr>\n",
       "<tr>\n",
       "  <th>const</th>        <td>   13.0490</td> <td>    0.002</td> <td> 6227.953</td> <td> 0.000</td> <td>   13.045</td> <td>   13.053</td>\n",
       "</tr>\n",
       "<tr>\n",
       "  <th>bedrooms</th>     <td>   -0.0168</td> <td>    0.003</td> <td>   -6.291</td> <td> 0.000</td> <td>   -0.022</td> <td>   -0.012</td>\n",
       "</tr>\n",
       "<tr>\n",
       "  <th>bathrooms</th>    <td>    0.0408</td> <td>    0.004</td> <td>   10.841</td> <td> 0.000</td> <td>    0.033</td> <td>    0.048</td>\n",
       "</tr>\n",
       "<tr>\n",
       "  <th>sqft_living</th>  <td>    0.1985</td> <td>    0.004</td> <td>   46.024</td> <td> 0.000</td> <td>    0.190</td> <td>    0.207</td>\n",
       "</tr>\n",
       "<tr>\n",
       "  <th>sqft_lot</th>     <td>    0.0366</td> <td>    0.002</td> <td>   16.565</td> <td> 0.000</td> <td>    0.032</td> <td>    0.041</td>\n",
       "</tr>\n",
       "<tr>\n",
       "  <th>floors</th>       <td>    0.0160</td> <td>    0.003</td> <td>    6.033</td> <td> 0.000</td> <td>    0.011</td> <td>    0.021</td>\n",
       "</tr>\n",
       "<tr>\n",
       "  <th>waterfront</th>   <td>    0.0431</td> <td>    0.002</td> <td>   20.295</td> <td> 0.000</td> <td>    0.039</td> <td>    0.047</td>\n",
       "</tr>\n",
       "<tr>\n",
       "  <th>condition</th>    <td>    0.0393</td> <td>    0.002</td> <td>   17.202</td> <td> 0.000</td> <td>    0.035</td> <td>    0.044</td>\n",
       "</tr>\n",
       "<tr>\n",
       "  <th>grade</th>        <td>    0.2160</td> <td>    0.004</td> <td>   59.394</td> <td> 0.000</td> <td>    0.209</td> <td>    0.223</td>\n",
       "</tr>\n",
       "<tr>\n",
       "  <th>yr_built</th>     <td>   -0.0563</td> <td>    0.003</td> <td>  -17.981</td> <td> 0.000</td> <td>   -0.062</td> <td>   -0.050</td>\n",
       "</tr>\n",
       "<tr>\n",
       "  <th>dist_to_dtwn</th> <td>   -0.1864</td> <td>    0.002</td> <td>  -75.042</td> <td> 0.000</td> <td>   -0.191</td> <td>   -0.181</td>\n",
       "</tr>\n",
       "</table>\n",
       "<table class=\"simpletable\">\n",
       "<tr>\n",
       "  <th>Omnibus:</th>       <td>332.837</td> <th>  Durbin-Watson:     </th> <td>   1.973</td> \n",
       "</tr>\n",
       "<tr>\n",
       "  <th>Prob(Omnibus):</th> <td> 0.000</td>  <th>  Jarque-Bera (JB):  </th> <td> 583.537</td> \n",
       "</tr>\n",
       "<tr>\n",
       "  <th>Skew:</th>          <td>-0.156</td>  <th>  Prob(JB):          </th> <td>1.93e-127</td>\n",
       "</tr>\n",
       "<tr>\n",
       "  <th>Kurtosis:</th>      <td> 3.845</td>  <th>  Cond. No.          </th> <td>    4.92</td> \n",
       "</tr>\n",
       "</table><br/><br/>Notes:<br/>[1] Standard Errors assume that the covariance matrix of the errors is correctly specified."
      ],
      "text/plain": [
       "<class 'statsmodels.iolib.summary.Summary'>\n",
       "\"\"\"\n",
       "                            OLS Regression Results                            \n",
       "==============================================================================\n",
       "Dep. Variable:                  price   R-squared:                       0.728\n",
       "Model:                            OLS   Adj. R-squared:                  0.728\n",
       "Method:                 Least Squares   F-statistic:                     4617.\n",
       "Date:                Tue, 30 Mar 2021   Prob (F-statistic):               0.00\n",
       "Time:                        13:45:06   Log-Likelihood:                -2230.4\n",
       "No. Observations:               17277   AIC:                             4483.\n",
       "Df Residuals:                   17266   BIC:                             4568.\n",
       "Df Model:                          10                                         \n",
       "Covariance Type:            nonrobust                                         \n",
       "================================================================================\n",
       "                   coef    std err          t      P>|t|      [0.025      0.975]\n",
       "--------------------------------------------------------------------------------\n",
       "const           13.0490      0.002   6227.953      0.000      13.045      13.053\n",
       "bedrooms        -0.0168      0.003     -6.291      0.000      -0.022      -0.012\n",
       "bathrooms        0.0408      0.004     10.841      0.000       0.033       0.048\n",
       "sqft_living      0.1985      0.004     46.024      0.000       0.190       0.207\n",
       "sqft_lot         0.0366      0.002     16.565      0.000       0.032       0.041\n",
       "floors           0.0160      0.003      6.033      0.000       0.011       0.021\n",
       "waterfront       0.0431      0.002     20.295      0.000       0.039       0.047\n",
       "condition        0.0393      0.002     17.202      0.000       0.035       0.044\n",
       "grade            0.2160      0.004     59.394      0.000       0.209       0.223\n",
       "yr_built        -0.0563      0.003    -17.981      0.000      -0.062      -0.050\n",
       "dist_to_dtwn    -0.1864      0.002    -75.042      0.000      -0.191      -0.181\n",
       "==============================================================================\n",
       "Omnibus:                      332.837   Durbin-Watson:                   1.973\n",
       "Prob(Omnibus):                  0.000   Jarque-Bera (JB):              583.537\n",
       "Skew:                          -0.156   Prob(JB):                    1.93e-127\n",
       "Kurtosis:                       3.845   Cond. No.                         4.92\n",
       "==============================================================================\n",
       "\n",
       "Notes:\n",
       "[1] Standard Errors assume that the covariance matrix of the errors is correctly specified.\n",
       "\"\"\""
      ]
     },
     "execution_count": 23,
     "metadata": {},
     "output_type": "execute_result"
    }
   ],
   "source": [
    "predictors = sm.add_constant(X_train)\n",
    "model_1 = sm.OLS(y_train, predictors).fit()\n",
    "model_1.summary()"
   ]
  },
  {
   "cell_type": "markdown",
   "metadata": {},
   "source": [
    "The p-values are less than 0.05 for our selected columns. Let's take a look at our residuals for normality."
   ]
  },
  {
   "cell_type": "code",
   "execution_count": 24,
   "metadata": {},
   "outputs": [
    {
     "data": {
      "image/png": "[encoded data removed]",
      "text/plain": [
       "<Figure size 432x288 with 1 Axes>"
      ]
     },
     "metadata": {
      "needs_background": "light"
     },
     "output_type": "display_data"
    }
   ],
   "source": [
    "fig = sm.graphics.qqplot(model_1.resid, dist=stats.norm, line='45', fit=True)"
   ]
  },
  {
   "cell_type": "markdown",
   "metadata": {},
   "source": [
    "This doesn't look great, as our QQ plot looks incorrect and we have a pronounced funnel shape on our check for homoscedasticity. We are going to need to make some changes.\n"
   ]
  },
  {
   "cell_type": "code",
   "execution_count": 25,
   "metadata": {},
   "outputs": [
    {
     "name": "stdout",
     "output_type": "stream",
     "text": [
      "Train Root Mean Square Error: 0.27531389328266376\n",
      "Test Root Mean Square Error: 1575.9726456887201\n"
     ]
    }
   ],
   "source": [
    "regression = LinearRegression()\n",
    "regression.fit(X_train, y_train)\n",
    "\n",
    "#use the regression for the train and test data\n",
    "y_hat_train = regression.predict(X_train)\n",
    "y_hat_test = regression.predict(X_test)\n",
    "\n",
    "#Root Mean Square Error\n",
    "train_rmse = np.sqrt(mean_squared_error(y_train, y_hat_train))\n",
    "test_rmse = np.sqrt(mean_squared_error(y_test, y_hat_test))\n",
    "\n",
    "print(f'Train Root Mean Square Error: {train_rmse}')\n",
    "print(f'Test Root Mean Square Error: {test_rmse}')"
   ]
  },
  {
   "cell_type": "markdown",
   "metadata": {},
   "source": [
    "## Models Addressing Multicollinearity\n",
    "\n",
    "For this iteration, I'm going to remove some outliers. (log transformation?)\n",
    "\n",
    "I recall having the most issues determining the normal distributions of sqft_lot and bedrooms, so I'm going to filter on both."
   ]
  },
  {
   "cell_type": "code",
   "execution_count": 26,
   "metadata": {},
   "outputs": [
    {
     "data": {
      "text/plain": [
       "<AxesSubplot:>"
      ]
     },
     "execution_count": 26,
     "metadata": {},
     "output_type": "execute_result"
    },
    {
     "data": {
      "image/png": "[encoded data removed]",
      "text/plain": [
       "<Figure size 432x288 with 1 Axes>"
      ]
     },
     "metadata": {
      "needs_background": "light"
     },
     "output_type": "display_data"
    }
   ],
   "source": [
    "df_col_drops.sqft_lot.hist()"
   ]
  },
  {
   "cell_type": "code",
   "execution_count": 27,
   "metadata": {},
   "outputs": [
    {
     "name": "stdout",
     "output_type": "stream",
     "text": [
      "0.8 percentile: 12182.399999999998\n",
      "0.81 percentile: 12558.0\n",
      "0.82 percentile: 13055.439999999995\n",
      "0.83 percentile: 13503.68\n",
      "0.84 percentile: 14197.0\n",
      "0.85 percentile: 15000.0\n",
      "0.86 percentile: 15716.040000000012\n",
      "0.87 percentile: 16646.640000000003\n",
      "0.88 percentile: 18000.0\n",
      "0.89 percentile: 19550.0\n",
      "0.9 percentile: 21371.600000000006\n",
      "0.91 percentile: 24149.360000000015\n",
      "0.92 percentile: 28505.119999999995\n",
      "0.93 percentile: 34848.0\n",
      "0.94 percentile: 37643.19999999999\n",
      "0.95 percentile: 43307.200000000026\n",
      "0.96 percentile: 50655.28\n",
      "0.97 percentile: 67381.7199999999\n",
      "0.98 percentile: 107157.0\n",
      "0.99 percentile: 213008.0\n"
     ]
    }
   ],
   "source": [
    "for i in range(80,100):\n",
    "    q = i/100\n",
    "    print(\"{} percentile: {}\".format(q,df_col_drops.sqft_lot.quantile(q=q)))"
   ]
  },
  {
   "cell_type": "markdown",
   "metadata": {},
   "source": [
    "I think filtering out homes with greater than 100k sqaure feet is acceptable here."
   ]
  },
  {
   "cell_type": "code",
   "execution_count": 28,
   "metadata": {},
   "outputs": [
    {
     "data": {
      "text/plain": [
       "<AxesSubplot:>"
      ]
     },
     "execution_count": 28,
     "metadata": {},
     "output_type": "execute_result"
    },
    {
     "data": {
      "image/png": "[encoded data removed]",
      "text/plain": [
       "<Figure size 432x288 with 1 Axes>"
      ]
     },
     "metadata": {
      "needs_background": "light"
     },
     "output_type": "display_data"
    }
   ],
   "source": [
    "df_col_drops.bedrooms.hist()"
   ]
  },
  {
   "cell_type": "code",
   "execution_count": 29,
   "metadata": {},
   "outputs": [
    {
     "name": "stdout",
     "output_type": "stream",
     "text": [
      "0.8 percentile: 4.0\n",
      "0.81 percentile: 4.0\n",
      "0.82 percentile: 4.0\n",
      "0.83 percentile: 4.0\n",
      "0.84 percentile: 4.0\n",
      "0.85 percentile: 4.0\n",
      "0.86 percentile: 4.0\n",
      "0.87 percentile: 4.0\n",
      "0.88 percentile: 4.0\n",
      "0.89 percentile: 4.0\n",
      "0.9 percentile: 4.0\n",
      "0.91 percentile: 4.0\n",
      "0.92 percentile: 5.0\n",
      "0.93 percentile: 5.0\n",
      "0.94 percentile: 5.0\n",
      "0.95 percentile: 5.0\n",
      "0.96 percentile: 5.0\n",
      "0.97 percentile: 5.0\n",
      "0.98 percentile: 5.0\n",
      "0.99 percentile: 6.0\n"
     ]
    }
   ],
   "source": [
    "for i in range(80,100):\n",
    "    q = i/100\n",
    "    print(\"{} percentile: {}\".format(q,df_col_drops.bedrooms.quantile(q=q)))"
   ]
  },
  {
   "cell_type": "code",
   "execution_count": 30,
   "metadata": {},
   "outputs": [
    {
     "data": {
      "text/plain": [
       "3     9824\n",
       "4     6882\n",
       "2     2760\n",
       "5     1601\n",
       "6      272\n",
       "1      196\n",
       "7       38\n",
       "8       13\n",
       "9        6\n",
       "10       3\n",
       "11       1\n",
       "33       1\n",
       "Name: bedrooms, dtype: int64"
      ]
     },
     "execution_count": 30,
     "metadata": {},
     "output_type": "execute_result"
    }
   ],
   "source": [
    "df_col_drops.bedrooms.value_counts()"
   ]
  },
  {
   "cell_type": "markdown",
   "metadata": {},
   "source": [
    "I will also be filtering out all houses with more than 6 bedrooms, removing about 2% of the total entries. (may overlap with sq footage)\n",
    "\n",
    "I will also include a log transformation to the price feature, as this may help fix our QQplot from Model 1."
   ]
  },
  {
   "cell_type": "code",
   "execution_count": 31,
   "metadata": {},
   "outputs": [
    {
     "name": "stdout",
     "output_type": "stream",
     "text": [
      "Percent removed: 0.021530768162244755\n",
      "Percent removed: 0.024355234523313424\n"
     ]
    }
   ],
   "source": [
    "orig_tot = len(df_col_drops)\n",
    "df_outlier_filter = df_col_drops.copy()\n",
    "df_outlier_filters = df_outlier_filter[df_outlier_filter.sqft_lot < 100000] # Subsetting to remove extreme outliers\n",
    "print('Percent removed:', (orig_tot -len(df_outlier_filters))/orig_tot)\n",
    "\n",
    "df_outlier_filters = df_outlier_filters[df_outlier_filters.bedrooms < 7] # Subsetting to remove extreme outliers\n",
    "print('Percent removed:', (orig_tot -len(df_outlier_filters))/orig_tot)\n",
    "\n",
    "#applying a log transformation to the price, which is right skewed\n",
    "df_outlier_filter['price'] = np.log(df_outlier_filter['price'])"
   ]
  },
  {
   "cell_type": "code",
   "execution_count": 32,
   "metadata": {},
   "outputs": [
    {
     "data": {
      "text/html": [
       "<table class=\"simpletable\">\n",
       "<caption>OLS Regression Results</caption>\n",
       "<tr>\n",
       "  <th>Dep. Variable:</th>          <td>price</td>      <th>  R-squared:         </th> <td>   0.727</td>\n",
       "</tr>\n",
       "<tr>\n",
       "  <th>Model:</th>                   <td>OLS</td>       <th>  Adj. R-squared:    </th> <td>   0.727</td>\n",
       "</tr>\n",
       "<tr>\n",
       "  <th>Method:</th>             <td>Least Squares</td>  <th>  F-statistic:       </th> <td>   4607.</td>\n",
       "</tr>\n",
       "<tr>\n",
       "  <th>Date:</th>             <td>Tue, 30 Mar 2021</td> <th>  Prob (F-statistic):</th>  <td>  0.00</td> \n",
       "</tr>\n",
       "<tr>\n",
       "  <th>Time:</th>                 <td>13:45:07</td>     <th>  Log-Likelihood:    </th> <td> -2141.9</td>\n",
       "</tr>\n",
       "<tr>\n",
       "  <th>No. Observations:</th>      <td> 17277</td>      <th>  AIC:               </th> <td>   4306.</td>\n",
       "</tr>\n",
       "<tr>\n",
       "  <th>Df Residuals:</th>          <td> 17266</td>      <th>  BIC:               </th> <td>   4391.</td>\n",
       "</tr>\n",
       "<tr>\n",
       "  <th>Df Model:</th>              <td>    10</td>      <th>                     </th>     <td> </td>   \n",
       "</tr>\n",
       "<tr>\n",
       "  <th>Covariance Type:</th>      <td>nonrobust</td>    <th>                     </th>     <td> </td>   \n",
       "</tr>\n",
       "</table>\n",
       "<table class=\"simpletable\">\n",
       "<tr>\n",
       "        <td></td>          <th>coef</th>     <th>std err</th>      <th>t</th>      <th>P>|t|</th>  <th>[0.025</th>    <th>0.975]</th>  \n",
       "</tr>\n",
       "<tr>\n",
       "  <th>const</th>        <td>   15.0440</td> <td>    0.204</td> <td>   73.754</td> <td> 0.000</td> <td>   14.644</td> <td>   15.444</td>\n",
       "</tr>\n",
       "<tr>\n",
       "  <th>bedrooms</th>     <td>   -0.0201</td> <td>    0.003</td> <td>   -7.053</td> <td> 0.000</td> <td>   -0.026</td> <td>   -0.015</td>\n",
       "</tr>\n",
       "<tr>\n",
       "  <th>bathrooms</th>    <td>    0.0546</td> <td>    0.005</td> <td>   11.224</td> <td> 0.000</td> <td>    0.045</td> <td>    0.064</td>\n",
       "</tr>\n",
       "<tr>\n",
       "  <th>sqft_living</th>  <td>    0.0002</td> <td> 4.67e-06</td> <td>   46.464</td> <td> 0.000</td> <td>    0.000</td> <td>    0.000</td>\n",
       "</tr>\n",
       "<tr>\n",
       "  <th>sqft_lot</th>     <td>  8.92e-07</td> <td>  5.2e-08</td> <td>   17.160</td> <td> 0.000</td> <td>  7.9e-07</td> <td> 9.94e-07</td>\n",
       "</tr>\n",
       "<tr>\n",
       "  <th>floors</th>       <td>    0.0271</td> <td>    0.005</td> <td>    5.543</td> <td> 0.000</td> <td>    0.018</td> <td>    0.037</td>\n",
       "</tr>\n",
       "<tr>\n",
       "  <th>waterfront</th>   <td>    0.5287</td> <td>    0.027</td> <td>   19.885</td> <td> 0.000</td> <td>    0.477</td> <td>    0.581</td>\n",
       "</tr>\n",
       "<tr>\n",
       "  <th>condition</th>    <td>    0.0603</td> <td>    0.004</td> <td>   17.147</td> <td> 0.000</td> <td>    0.053</td> <td>    0.067</td>\n",
       "</tr>\n",
       "<tr>\n",
       "  <th>grade</th>        <td>    0.1854</td> <td>    0.003</td> <td>   60.361</td> <td> 0.000</td> <td>    0.179</td> <td>    0.191</td>\n",
       "</tr>\n",
       "<tr>\n",
       "  <th>yr_built</th>     <td>   -0.0020</td> <td>    0.000</td> <td>  -18.355</td> <td> 0.000</td> <td>   -0.002</td> <td>   -0.002</td>\n",
       "</tr>\n",
       "<tr>\n",
       "  <th>dist_to_dtwn</th> <td>   -0.0175</td> <td>    0.000</td> <td>  -75.148</td> <td> 0.000</td> <td>   -0.018</td> <td>   -0.017</td>\n",
       "</tr>\n",
       "</table>\n",
       "<table class=\"simpletable\">\n",
       "<tr>\n",
       "  <th>Omnibus:</th>       <td>333.675</td> <th>  Durbin-Watson:     </th> <td>   1.999</td> \n",
       "</tr>\n",
       "<tr>\n",
       "  <th>Prob(Omnibus):</th> <td> 0.000</td>  <th>  Jarque-Bera (JB):  </th> <td> 601.199</td> \n",
       "</tr>\n",
       "<tr>\n",
       "  <th>Skew:</th>          <td>-0.145</td>  <th>  Prob(JB):          </th> <td>2.83e-131</td>\n",
       "</tr>\n",
       "<tr>\n",
       "  <th>Kurtosis:</th>      <td> 3.867</td>  <th>  Cond. No.          </th> <td>4.40e+06</td> \n",
       "</tr>\n",
       "</table><br/><br/>Notes:<br/>[1] Standard Errors assume that the covariance matrix of the errors is correctly specified.<br/>[2] The condition number is large, 4.4e+06. This might indicate that there are<br/>strong multicollinearity or other numerical problems."
      ],
      "text/plain": [
       "<class 'statsmodels.iolib.summary.Summary'>\n",
       "\"\"\"\n",
       "                            OLS Regression Results                            \n",
       "==============================================================================\n",
       "Dep. Variable:                  price   R-squared:                       0.727\n",
       "Model:                            OLS   Adj. R-squared:                  0.727\n",
       "Method:                 Least Squares   F-statistic:                     4607.\n",
       "Date:                Tue, 30 Mar 2021   Prob (F-statistic):               0.00\n",
       "Time:                        13:45:07   Log-Likelihood:                -2141.9\n",
       "No. Observations:               17277   AIC:                             4306.\n",
       "Df Residuals:                   17266   BIC:                             4391.\n",
       "Df Model:                          10                                         \n",
       "Covariance Type:            nonrobust                                         \n",
       "================================================================================\n",
       "                   coef    std err          t      P>|t|      [0.025      0.975]\n",
       "--------------------------------------------------------------------------------\n",
       "const           15.0440      0.204     73.754      0.000      14.644      15.444\n",
       "bedrooms        -0.0201      0.003     -7.053      0.000      -0.026      -0.015\n",
       "bathrooms        0.0546      0.005     11.224      0.000       0.045       0.064\n",
       "sqft_living      0.0002   4.67e-06     46.464      0.000       0.000       0.000\n",
       "sqft_lot       8.92e-07    5.2e-08     17.160      0.000     7.9e-07    9.94e-07\n",
       "floors           0.0271      0.005      5.543      0.000       0.018       0.037\n",
       "waterfront       0.5287      0.027     19.885      0.000       0.477       0.581\n",
       "condition        0.0603      0.004     17.147      0.000       0.053       0.067\n",
       "grade            0.1854      0.003     60.361      0.000       0.179       0.191\n",
       "yr_built        -0.0020      0.000    -18.355      0.000      -0.002      -0.002\n",
       "dist_to_dtwn    -0.0175      0.000    -75.148      0.000      -0.018      -0.017\n",
       "==============================================================================\n",
       "Omnibus:                      333.675   Durbin-Watson:                   1.999\n",
       "Prob(Omnibus):                  0.000   Jarque-Bera (JB):              601.199\n",
       "Skew:                          -0.145   Prob(JB):                    2.83e-131\n",
       "Kurtosis:                       3.867   Cond. No.                     4.40e+06\n",
       "==============================================================================\n",
       "\n",
       "Notes:\n",
       "[1] Standard Errors assume that the covariance matrix of the errors is correctly specified.\n",
       "[2] The condition number is large, 4.4e+06. This might indicate that there are\n",
       "strong multicollinearity or other numerical problems.\n",
       "\"\"\""
      ]
     },
     "execution_count": 32,
     "metadata": {},
     "output_type": "execute_result"
    }
   ],
   "source": [
    "X2 = df_outlier_filter.drop('price', 1)\n",
    "y2 = df_outlier_filter['price']\n",
    "X_train2, X_test2, y_train2, y_test2 = train_test_split(X2, y2, test_size=0.2)\n",
    "\n",
    "# Refit model with subset features\n",
    "predictors = sm.add_constant(X_train2)\n",
    "model_2 = sm.OLS(y_train2, predictors).fit()\n",
    "model_2.summary()"
   ]
  },
  {
   "cell_type": "code",
   "execution_count": 33,
   "metadata": {},
   "outputs": [
    {
     "data": {
      "image/png": "[encoded data removed]",
      "text/plain": [
       "<Figure size 432x288 with 1 Axes>"
      ]
     },
     "metadata": {
      "needs_background": "light"
     },
     "output_type": "display_data"
    }
   ],
   "source": [
    "fig = sm.graphics.qqplot(model_2.resid, dist=stats.norm, line='45', fit=True)"
   ]
  },
  {
   "cell_type": "code",
   "execution_count": 34,
   "metadata": {},
   "outputs": [
    {
     "name": "stdout",
     "output_type": "stream",
     "text": [
      "Train Root Mean Square Error: 0.273907239139027\n",
      "Test Root Mean Square Error: 0.2747416706971288\n"
     ]
    }
   ],
   "source": [
    "regression2 = LinearRegression()\n",
    "regression2.fit(X_train2, y_train2)\n",
    "\n",
    "#use the regression for the train and test data\n",
    "y_hat_train2 = regression2.predict(X_train2)\n",
    "y_hat_test2 = regression2.predict(X_test2)\n",
    "\n",
    "#Root Mean Square Error\n",
    "train_rmse2 = np.sqrt(mean_squared_error(y_train2, y_hat_train2))\n",
    "test_rmse2 = np.sqrt(mean_squared_error(y_test2, y_hat_test2))\n",
    "\n",
    "print(f'Train Root Mean Square Error: {train_rmse2}')\n",
    "print(f'Test Root Mean Square Error: {test_rmse2}')"
   ]
  },
  {
   "cell_type": "markdown",
   "metadata": {},
   "source": [
    "Similar problems as last time, but our OLS has alerted us that there is strong collinearity. Let's investigate what we should remove."
   ]
  },
  {
   "cell_type": "code",
   "execution_count": 35,
   "metadata": {},
   "outputs": [
    {
     "data": {
      "text/plain": [
       "[('bedrooms', 1.6311136630472653),\n",
       " ('bathrooms', 3.215688966233134),\n",
       " ('sqft_living', 4.211173170919058),\n",
       " ('sqft_lot', 1.1150457494029746),\n",
       " ('floors', 1.6055072567823685),\n",
       " ('waterfront', 1.0219826889310346),\n",
       " ('condition', 1.1874067595264461),\n",
       " ('grade', 3.0015991231227797),\n",
       " ('yr_built', 2.240108337334204),\n",
       " ('dist_to_dtwn', 1.4004289073409446)]"
      ]
     },
     "execution_count": 35,
     "metadata": {},
     "output_type": "execute_result"
    }
   ],
   "source": [
    "X = df_col_drops[x_cols]\n",
    "X['constant'] = np.ones(X.shape[0])\n",
    "vif = [variance_inflation_factor(X.values, i) for i in range(X.shape[1])]\n",
    "list(zip(x_cols, vif))"
   ]
  },
  {
   "cell_type": "markdown",
   "metadata": {},
   "source": [
    "You usually want to remove variables with a cif of 5~10 or greater, indicating that they are displaying multicollinearity with other variables in the feature set. None of these values are really in that range."
   ]
  },
  {
   "cell_type": "markdown",
   "metadata": {},
   "source": [
    "\n",
    "Going back to the drawing board, let's look at a multicolinearity heatmap to determine the columns to remove from our model."
   ]
  },
  {
   "cell_type": "code",
   "execution_count": 36,
   "metadata": {},
   "outputs": [
    {
     "data": {
      "text/html": [
       "<div>\n",
       "<style scoped>\n",
       "    .dataframe tbody tr th:only-of-type {\n",
       "        vertical-align: middle;\n",
       "    }\n",
       "\n",
       "    .dataframe tbody tr th {\n",
       "        vertical-align: top;\n",
       "    }\n",
       "\n",
       "    .dataframe thead th {\n",
       "        text-align: right;\n",
       "    }\n",
       "</style>\n",
       "<table border=\"1\" class=\"dataframe\">\n",
       "  <thead>\n",
       "    <tr style=\"text-align: right;\">\n",
       "      <th></th>\n",
       "      <th>bedrooms</th>\n",
       "      <th>bathrooms</th>\n",
       "      <th>sqft_living</th>\n",
       "      <th>sqft_lot</th>\n",
       "      <th>floors</th>\n",
       "      <th>waterfront</th>\n",
       "      <th>condition</th>\n",
       "      <th>grade</th>\n",
       "      <th>yr_built</th>\n",
       "      <th>dist_to_dtwn</th>\n",
       "    </tr>\n",
       "  </thead>\n",
       "  <tbody>\n",
       "    <tr>\n",
       "      <th>bedrooms</th>\n",
       "      <td>1.000000</td>\n",
       "      <td>0.514508</td>\n",
       "      <td>0.578212</td>\n",
       "      <td>0.032471</td>\n",
       "      <td>0.177944</td>\n",
       "      <td>-0.002127</td>\n",
       "      <td>0.026496</td>\n",
       "      <td>0.356563</td>\n",
       "      <td>0.155670</td>\n",
       "      <td>0.058718</td>\n",
       "    </tr>\n",
       "    <tr>\n",
       "      <th>bathrooms</th>\n",
       "      <td>0.514508</td>\n",
       "      <td>1.000000</td>\n",
       "      <td>0.755758</td>\n",
       "      <td>0.088373</td>\n",
       "      <td>0.502582</td>\n",
       "      <td>0.063629</td>\n",
       "      <td>-0.126479</td>\n",
       "      <td>0.665838</td>\n",
       "      <td>0.507173</td>\n",
       "      <td>0.084731</td>\n",
       "    </tr>\n",
       "    <tr>\n",
       "      <th>sqft_living</th>\n",
       "      <td>0.578212</td>\n",
       "      <td>0.755758</td>\n",
       "      <td>1.000000</td>\n",
       "      <td>0.173453</td>\n",
       "      <td>0.353953</td>\n",
       "      <td>0.104637</td>\n",
       "      <td>-0.059445</td>\n",
       "      <td>0.762779</td>\n",
       "      <td>0.318152</td>\n",
       "      <td>0.076442</td>\n",
       "    </tr>\n",
       "    <tr>\n",
       "      <th>sqft_lot</th>\n",
       "      <td>0.032471</td>\n",
       "      <td>0.088373</td>\n",
       "      <td>0.173453</td>\n",
       "      <td>1.000000</td>\n",
       "      <td>-0.004814</td>\n",
       "      <td>0.021459</td>\n",
       "      <td>-0.008830</td>\n",
       "      <td>0.114731</td>\n",
       "      <td>0.052946</td>\n",
       "      <td>0.243472</td>\n",
       "    </tr>\n",
       "    <tr>\n",
       "      <th>floors</th>\n",
       "      <td>0.177944</td>\n",
       "      <td>0.502582</td>\n",
       "      <td>0.353953</td>\n",
       "      <td>-0.004814</td>\n",
       "      <td>1.000000</td>\n",
       "      <td>0.020797</td>\n",
       "      <td>-0.264075</td>\n",
       "      <td>0.458794</td>\n",
       "      <td>0.489193</td>\n",
       "      <td>0.004790</td>\n",
       "    </tr>\n",
       "    <tr>\n",
       "      <th>waterfront</th>\n",
       "      <td>-0.002127</td>\n",
       "      <td>0.063629</td>\n",
       "      <td>0.104637</td>\n",
       "      <td>0.021459</td>\n",
       "      <td>0.020797</td>\n",
       "      <td>1.000000</td>\n",
       "      <td>0.016648</td>\n",
       "      <td>0.082818</td>\n",
       "      <td>-0.024487</td>\n",
       "      <td>-0.014859</td>\n",
       "    </tr>\n",
       "    <tr>\n",
       "      <th>condition</th>\n",
       "      <td>0.026496</td>\n",
       "      <td>-0.126479</td>\n",
       "      <td>-0.059445</td>\n",
       "      <td>-0.008830</td>\n",
       "      <td>-0.264075</td>\n",
       "      <td>0.016648</td>\n",
       "      <td>1.000000</td>\n",
       "      <td>-0.146896</td>\n",
       "      <td>-0.361592</td>\n",
       "      <td>-0.073569</td>\n",
       "    </tr>\n",
       "    <tr>\n",
       "      <th>grade</th>\n",
       "      <td>0.356563</td>\n",
       "      <td>0.665838</td>\n",
       "      <td>0.762779</td>\n",
       "      <td>0.114731</td>\n",
       "      <td>0.458794</td>\n",
       "      <td>0.082818</td>\n",
       "      <td>-0.146896</td>\n",
       "      <td>1.000000</td>\n",
       "      <td>0.447865</td>\n",
       "      <td>0.008441</td>\n",
       "    </tr>\n",
       "    <tr>\n",
       "      <th>yr_built</th>\n",
       "      <td>0.155670</td>\n",
       "      <td>0.507173</td>\n",
       "      <td>0.318152</td>\n",
       "      <td>0.052946</td>\n",
       "      <td>0.489193</td>\n",
       "      <td>-0.024487</td>\n",
       "      <td>-0.361592</td>\n",
       "      <td>0.447865</td>\n",
       "      <td>1.000000</td>\n",
       "      <td>0.389471</td>\n",
       "    </tr>\n",
       "    <tr>\n",
       "      <th>dist_to_dtwn</th>\n",
       "      <td>0.058718</td>\n",
       "      <td>0.084731</td>\n",
       "      <td>0.076442</td>\n",
       "      <td>0.243472</td>\n",
       "      <td>0.004790</td>\n",
       "      <td>-0.014859</td>\n",
       "      <td>-0.073569</td>\n",
       "      <td>0.008441</td>\n",
       "      <td>0.389471</td>\n",
       "      <td>1.000000</td>\n",
       "    </tr>\n",
       "  </tbody>\n",
       "</table>\n",
       "</div>"
      ],
      "text/plain": [
       "              bedrooms  bathrooms  sqft_living  sqft_lot    floors  \\\n",
       "bedrooms      1.000000   0.514508     0.578212  0.032471  0.177944   \n",
       "bathrooms     0.514508   1.000000     0.755758  0.088373  0.502582   \n",
       "sqft_living   0.578212   0.755758     1.000000  0.173453  0.353953   \n",
       "sqft_lot      0.032471   0.088373     0.173453  1.000000 -0.004814   \n",
       "floors        0.177944   0.502582     0.353953 -0.004814  1.000000   \n",
       "waterfront   -0.002127   0.063629     0.104637  0.021459  0.020797   \n",
       "condition     0.026496  -0.126479    -0.059445 -0.008830 -0.264075   \n",
       "grade         0.356563   0.665838     0.762779  0.114731  0.458794   \n",
       "yr_built      0.155670   0.507173     0.318152  0.052946  0.489193   \n",
       "dist_to_dtwn  0.058718   0.084731     0.076442  0.243472  0.004790   \n",
       "\n",
       "              waterfront  condition     grade  yr_built  dist_to_dtwn  \n",
       "bedrooms       -0.002127   0.026496  0.356563  0.155670      0.058718  \n",
       "bathrooms       0.063629  -0.126479  0.665838  0.507173      0.084731  \n",
       "sqft_living     0.104637  -0.059445  0.762779  0.318152      0.076442  \n",
       "sqft_lot        0.021459  -0.008830  0.114731  0.052946      0.243472  \n",
       "floors          0.020797  -0.264075  0.458794  0.489193      0.004790  \n",
       "waterfront      1.000000   0.016648  0.082818 -0.024487     -0.014859  \n",
       "condition       0.016648   1.000000 -0.146896 -0.361592     -0.073569  \n",
       "grade           0.082818  -0.146896  1.000000  0.447865      0.008441  \n",
       "yr_built       -0.024487  -0.361592  0.447865  1.000000      0.389471  \n",
       "dist_to_dtwn   -0.014859  -0.073569  0.008441  0.389471      1.000000  "
      ]
     },
     "execution_count": 36,
     "metadata": {},
     "output_type": "execute_result"
    }
   ],
   "source": [
    "first_features = ['bedrooms', 'bathrooms', 'sqft_living', 'sqft_lot', 'floors', 'waterfront', 'condition', 'grade', 'yr_built', 'dist_to_dtwn']\n",
    "corr = df_col_drops[first_features].corr()\n",
    "corr"
   ]
  },
  {
   "cell_type": "code",
   "execution_count": 37,
   "metadata": {},
   "outputs": [
    {
     "data": {
      "text/plain": [
       "<AxesSubplot:>"
      ]
     },
     "execution_count": 37,
     "metadata": {},
     "output_type": "execute_result"
    },
    {
     "data": {
      "image/png": "[encoded data removed]",
      "text/plain": [
       "<Figure size 432x288 with 2 Axes>"
      ]
     },
     "metadata": {
      "needs_background": "light"
     },
     "output_type": "display_data"
    }
   ],
   "source": [
    "sns.heatmap(corr, center=0, annot=True)"
   ]
  },
  {
   "cell_type": "markdown",
   "metadata": {},
   "source": [
    "sqft_living and grade = 0.76\n",
    "\n",
    "sqft_living and bathrooms = 0.76\n",
    "\n",
    "grade and bathrooms = 0.67\n",
    "\n",
    "Let's remove grade and bathrooms for this model. We will also use our previous outlier filter, as this seems to be a step in the right direction."
   ]
  },
  {
   "cell_type": "code",
   "execution_count": 38,
   "metadata": {},
   "outputs": [
    {
     "data": {
      "text/html": [
       "<table class=\"simpletable\">\n",
       "<caption>OLS Regression Results</caption>\n",
       "<tr>\n",
       "  <th>Dep. Variable:</th>          <td>price</td>      <th>  R-squared:         </th> <td>   0.672</td>\n",
       "</tr>\n",
       "<tr>\n",
       "  <th>Model:</th>                   <td>OLS</td>       <th>  Adj. R-squared:    </th> <td>   0.671</td>\n",
       "</tr>\n",
       "<tr>\n",
       "  <th>Method:</th>             <td>Least Squares</td>  <th>  F-statistic:       </th> <td>   4414.</td>\n",
       "</tr>\n",
       "<tr>\n",
       "  <th>Date:</th>             <td>Tue, 30 Mar 2021</td> <th>  Prob (F-statistic):</th>  <td>  0.00</td> \n",
       "</tr>\n",
       "<tr>\n",
       "  <th>Time:</th>                 <td>13:45:09</td>     <th>  Log-Likelihood:    </th> <td> -3851.0</td>\n",
       "</tr>\n",
       "<tr>\n",
       "  <th>No. Observations:</th>      <td> 17277</td>      <th>  AIC:               </th> <td>   7720.</td>\n",
       "</tr>\n",
       "<tr>\n",
       "  <th>Df Residuals:</th>          <td> 17268</td>      <th>  BIC:               </th> <td>   7790.</td>\n",
       "</tr>\n",
       "<tr>\n",
       "  <th>Df Model:</th>              <td>     8</td>      <th>                     </th>     <td> </td>   \n",
       "</tr>\n",
       "<tr>\n",
       "  <th>Covariance Type:</th>      <td>nonrobust</td>    <th>                     </th>     <td> </td>   \n",
       "</tr>\n",
       "</table>\n",
       "<table class=\"simpletable\">\n",
       "<tr>\n",
       "        <td></td>          <th>coef</th>     <th>std err</th>      <th>t</th>      <th>P>|t|</th>  <th>[0.025</th>    <th>0.975]</th>  \n",
       "</tr>\n",
       "<tr>\n",
       "  <th>const</th>        <td>   11.8937</td> <td>    0.209</td> <td>   57.022</td> <td> 0.000</td> <td>   11.485</td> <td>   12.303</td>\n",
       "</tr>\n",
       "<tr>\n",
       "  <th>bedrooms</th>     <td>   -0.0387</td> <td>    0.003</td> <td>  -12.700</td> <td> 0.000</td> <td>   -0.045</td> <td>   -0.033</td>\n",
       "</tr>\n",
       "<tr>\n",
       "  <th>sqft_living</th>  <td>    0.0004</td> <td> 3.39e-06</td> <td>  121.837</td> <td> 0.000</td> <td>    0.000</td> <td>    0.000</td>\n",
       "</tr>\n",
       "<tr>\n",
       "  <th>sqft_lot</th>     <td> 9.266e-07</td> <td> 5.73e-08</td> <td>   16.184</td> <td> 0.000</td> <td> 8.14e-07</td> <td> 1.04e-06</td>\n",
       "</tr>\n",
       "<tr>\n",
       "  <th>floors</th>       <td>    0.0824</td> <td>    0.005</td> <td>   15.809</td> <td> 0.000</td> <td>    0.072</td> <td>    0.093</td>\n",
       "</tr>\n",
       "<tr>\n",
       "  <th>waterfront</th>   <td>    0.5822</td> <td>    0.028</td> <td>   21.143</td> <td> 0.000</td> <td>    0.528</td> <td>    0.636</td>\n",
       "</tr>\n",
       "<tr>\n",
       "  <th>condition</th>    <td>    0.0645</td> <td>    0.004</td> <td>   16.795</td> <td> 0.000</td> <td>    0.057</td> <td>    0.072</td>\n",
       "</tr>\n",
       "<tr>\n",
       "  <th>yr_built</th>     <td>    0.0002</td> <td>    0.000</td> <td>    2.138</td> <td> 0.033</td> <td>  1.9e-05</td> <td>    0.000</td>\n",
       "</tr>\n",
       "<tr>\n",
       "  <th>dist_to_dtwn</th> <td>   -0.0207</td> <td>    0.000</td> <td>  -82.283</td> <td> 0.000</td> <td>   -0.021</td> <td>   -0.020</td>\n",
       "</tr>\n",
       "</table>\n",
       "<table class=\"simpletable\">\n",
       "<tr>\n",
       "  <th>Omnibus:</th>       <td>707.534</td> <th>  Durbin-Watson:     </th> <td>   1.991</td>\n",
       "</tr>\n",
       "<tr>\n",
       "  <th>Prob(Omnibus):</th> <td> 0.000</td>  <th>  Jarque-Bera (JB):  </th> <td>1440.351</td>\n",
       "</tr>\n",
       "<tr>\n",
       "  <th>Skew:</th>          <td>-0.292</td>  <th>  Prob(JB):          </th> <td>    0.00</td>\n",
       "</tr>\n",
       "<tr>\n",
       "  <th>Kurtosis:</th>      <td> 4.288</td>  <th>  Cond. No.          </th> <td>4.08e+06</td>\n",
       "</tr>\n",
       "</table><br/><br/>Notes:<br/>[1] Standard Errors assume that the covariance matrix of the errors is correctly specified.<br/>[2] The condition number is large, 4.08e+06. This might indicate that there are<br/>strong multicollinearity or other numerical problems."
      ],
      "text/plain": [
       "<class 'statsmodels.iolib.summary.Summary'>\n",
       "\"\"\"\n",
       "                            OLS Regression Results                            \n",
       "==============================================================================\n",
       "Dep. Variable:                  price   R-squared:                       0.672\n",
       "Model:                            OLS   Adj. R-squared:                  0.671\n",
       "Method:                 Least Squares   F-statistic:                     4414.\n",
       "Date:                Tue, 30 Mar 2021   Prob (F-statistic):               0.00\n",
       "Time:                        13:45:09   Log-Likelihood:                -3851.0\n",
       "No. Observations:               17277   AIC:                             7720.\n",
       "Df Residuals:                   17268   BIC:                             7790.\n",
       "Df Model:                           8                                         \n",
       "Covariance Type:            nonrobust                                         \n",
       "================================================================================\n",
       "                   coef    std err          t      P>|t|      [0.025      0.975]\n",
       "--------------------------------------------------------------------------------\n",
       "const           11.8937      0.209     57.022      0.000      11.485      12.303\n",
       "bedrooms        -0.0387      0.003    -12.700      0.000      -0.045      -0.033\n",
       "sqft_living      0.0004   3.39e-06    121.837      0.000       0.000       0.000\n",
       "sqft_lot      9.266e-07   5.73e-08     16.184      0.000    8.14e-07    1.04e-06\n",
       "floors           0.0824      0.005     15.809      0.000       0.072       0.093\n",
       "waterfront       0.5822      0.028     21.143      0.000       0.528       0.636\n",
       "condition        0.0645      0.004     16.795      0.000       0.057       0.072\n",
       "yr_built         0.0002      0.000      2.138      0.033     1.9e-05       0.000\n",
       "dist_to_dtwn    -0.0207      0.000    -82.283      0.000      -0.021      -0.020\n",
       "==============================================================================\n",
       "Omnibus:                      707.534   Durbin-Watson:                   1.991\n",
       "Prob(Omnibus):                  0.000   Jarque-Bera (JB):             1440.351\n",
       "Skew:                          -0.292   Prob(JB):                         0.00\n",
       "Kurtosis:                       4.288   Cond. No.                     4.08e+06\n",
       "==============================================================================\n",
       "\n",
       "Notes:\n",
       "[1] Standard Errors assume that the covariance matrix of the errors is correctly specified.\n",
       "[2] The condition number is large, 4.08e+06. This might indicate that there are\n",
       "strong multicollinearity or other numerical problems.\n",
       "\"\"\""
      ]
     },
     "execution_count": 38,
     "metadata": {},
     "output_type": "execute_result"
    }
   ],
   "source": [
    "X3 = df_outlier_filter.drop(columns=['price','grade','bathrooms'], axis=1)\n",
    "y3 = df_outlier_filter['price']\n",
    "X_train3, X_test3, y_train3, y_test3 = train_test_split(X3, y3, test_size=0.2)\n",
    "\n",
    "# Refit model with subset features\n",
    "predictors = sm.add_constant(X_train3)\n",
    "model_3 = sm.OLS(y_train3, predictors).fit()\n",
    "model_3.summary()"
   ]
  },
  {
   "cell_type": "code",
   "execution_count": 39,
   "metadata": {},
   "outputs": [
    {
     "data": {
      "image/png": "[encoded data removed]",
      "text/plain": [
       "<Figure size 432x288 with 1 Axes>"
      ]
     },
     "metadata": {
      "needs_background": "light"
     },
     "output_type": "display_data"
    }
   ],
   "source": [
    "fig = sm.graphics.qqplot(model_3.resid, dist=stats.norm, line='45', fit=True)"
   ]
  },
  {
   "cell_type": "code",
   "execution_count": 40,
   "metadata": {},
   "outputs": [
    {
     "name": "stdout",
     "output_type": "stream",
     "text": [
      "Train Root Mean Square Error: 0.30238948582354064\n",
      "Test Root Mean Square Error: 0.30323784866984355\n"
     ]
    }
   ],
   "source": [
    "regression3 = LinearRegression()\n",
    "regression3.fit(X_train3, y_train3)\n",
    "\n",
    "#use the regression for the train and test data\n",
    "y_hat_train3 = regression3.predict(X_train3)\n",
    "y_hat_test3 = regression3.predict(X_test3)\n",
    "\n",
    "#Root Mean Square Error\n",
    "train_rmse3 = np.sqrt(mean_squared_error(y_train3, y_hat_train3))\n",
    "test_rmse3 = np.sqrt(mean_squared_error(y_test3, y_hat_test3))\n",
    "\n",
    "print(f'Train Root Mean Square Error: {train_rmse3}')\n",
    "print(f'Test Root Mean Square Error: {test_rmse3}')"
   ]
  },
  {
   "cell_type": "markdown",
   "metadata": {},
   "source": [
    "This is a modeling choice. There are pros and cons to this approach versus the first model.  Removing multiple components has substantially diminished the model's performance, as indicated by the r-squared value.  However, multicollinearity between the features has been reduced."
   ]
  },
  {
   "cell_type": "markdown",
   "metadata": {},
   "source": [
    "## Model 4\n",
    "\n",
    "Our QQ plots are less than ideal in previous models. Let's see if we can fix that by using a transform on the appropriate features."
   ]
  },
  {
   "cell_type": "code",
   "execution_count": 41,
   "metadata": {},
   "outputs": [
    {
     "name": "stdout",
     "output_type": "stream",
     "text": [
      "bedrooms\n",
      "2.023641235344595\n",
      "bathrooms\n",
      "0.5197092816403838\n",
      "sqft_living\n",
      "1.473215455425834\n",
      "sqft_lot\n",
      "13.072603567136046\n",
      "floors\n",
      "0.6144969756263127\n",
      "waterfront\n",
      "12.039584643829357\n",
      "condition\n",
      "1.0360374245132955\n",
      "grade\n",
      "0.7882366363846076\n",
      "yr_built\n",
      "-0.4694499764949978\n",
      "dist_to_dtwn\n",
      "0.769367697269784\n"
     ]
    }
   ],
   "source": [
    "for col_name in df_outlier_filter.columns[1:]:\n",
    "    print(col_name)\n",
    "    print(df_outlier_filter[col_name].skew())"
   ]
  },
  {
   "cell_type": "markdown",
   "metadata": {},
   "source": [
    "'sqft_lot' seems to be the main issue with the highest skew coefficient. I'm not sure if I should apply this to waterfront. We may need to use another method here, or look elsewhere for model improvements."
   ]
  },
  {
   "cell_type": "code",
   "execution_count": 42,
   "metadata": {},
   "outputs": [
    {
     "data": {
      "text/plain": [
       "0.9625003856495555"
      ]
     },
     "execution_count": 42,
     "metadata": {},
     "output_type": "execute_result"
    }
   ],
   "source": [
    "#only run once\n",
    "df_outlier_filter['sqft_lot'] = np.log(df_outlier_filter['sqft_lot'])\n",
    "df_outlier_filter['sqft_lot'].skew()"
   ]
  },
  {
   "cell_type": "code",
   "execution_count": 43,
   "metadata": {},
   "outputs": [
    {
     "data": {
      "text/plain": [
       "<AxesSubplot:>"
      ]
     },
     "execution_count": 43,
     "metadata": {},
     "output_type": "execute_result"
    },
    {
     "data": {
      "image/png": "[encoded data removed]",
      "text/plain": [
       "<Figure size 432x288 with 1 Axes>"
      ]
     },
     "metadata": {
      "needs_background": "light"
     },
     "output_type": "display_data"
    }
   ],
   "source": [
    "df_outlier_filter['sqft_lot'].hist()"
   ]
  },
  {
   "cell_type": "code",
   "execution_count": 44,
   "metadata": {},
   "outputs": [
    {
     "data": {
      "text/plain": [
       "-0.6805637280656164"
      ]
     },
     "execution_count": 44,
     "metadata": {},
     "output_type": "execute_result"
    }
   ],
   "source": [
    "df_outlier_filter['bedrooms'] = np.log(df_outlier_filter['bedrooms'])\n",
    "df_outlier_filter['bedrooms'].skew()"
   ]
  },
  {
   "cell_type": "code",
   "execution_count": 45,
   "metadata": {},
   "outputs": [
    {
     "data": {
      "text/html": [
       "<table class=\"simpletable\">\n",
       "<caption>OLS Regression Results</caption>\n",
       "<tr>\n",
       "  <th>Dep. Variable:</th>          <td>price</td>      <th>  R-squared:         </th> <td>   0.729</td>\n",
       "</tr>\n",
       "<tr>\n",
       "  <th>Model:</th>                   <td>OLS</td>       <th>  Adj. R-squared:    </th> <td>   0.729</td>\n",
       "</tr>\n",
       "<tr>\n",
       "  <th>Method:</th>             <td>Least Squares</td>  <th>  F-statistic:       </th> <td>   4654.</td>\n",
       "</tr>\n",
       "<tr>\n",
       "  <th>Date:</th>             <td>Tue, 30 Mar 2021</td> <th>  Prob (F-statistic):</th>  <td>  0.00</td> \n",
       "</tr>\n",
       "<tr>\n",
       "  <th>Time:</th>                 <td>13:45:09</td>     <th>  Log-Likelihood:    </th> <td> -2131.4</td>\n",
       "</tr>\n",
       "<tr>\n",
       "  <th>No. Observations:</th>      <td> 17277</td>      <th>  AIC:               </th> <td>   4285.</td>\n",
       "</tr>\n",
       "<tr>\n",
       "  <th>Df Residuals:</th>          <td> 17266</td>      <th>  BIC:               </th> <td>   4370.</td>\n",
       "</tr>\n",
       "<tr>\n",
       "  <th>Df Model:</th>              <td>    10</td>      <th>                     </th>     <td> </td>   \n",
       "</tr>\n",
       "<tr>\n",
       "  <th>Covariance Type:</th>      <td>nonrobust</td>    <th>                     </th>     <td> </td>   \n",
       "</tr>\n",
       "</table>\n",
       "<table class=\"simpletable\">\n",
       "<tr>\n",
       "        <td></td>          <th>coef</th>     <th>std err</th>      <th>t</th>      <th>P>|t|</th>  <th>[0.025</th>    <th>0.975]</th>  \n",
       "</tr>\n",
       "<tr>\n",
       "  <th>const</th>        <td>   14.2696</td> <td>    0.209</td> <td>   68.240</td> <td> 0.000</td> <td>   13.860</td> <td>   14.679</td>\n",
       "</tr>\n",
       "<tr>\n",
       "  <th>bedrooms</th>     <td>   -0.0651</td> <td>    0.009</td> <td>   -6.950</td> <td> 0.000</td> <td>   -0.083</td> <td>   -0.047</td>\n",
       "</tr>\n",
       "<tr>\n",
       "  <th>bathrooms</th>    <td>    0.0669</td> <td>    0.005</td> <td>   13.741</td> <td> 0.000</td> <td>    0.057</td> <td>    0.076</td>\n",
       "</tr>\n",
       "<tr>\n",
       "  <th>sqft_living</th>  <td>    0.0002</td> <td> 4.78e-06</td> <td>   40.185</td> <td> 0.000</td> <td>    0.000</td> <td>    0.000</td>\n",
       "</tr>\n",
       "<tr>\n",
       "  <th>sqft_lot</th>     <td>    0.0629</td> <td>    0.003</td> <td>   20.110</td> <td> 0.000</td> <td>    0.057</td> <td>    0.069</td>\n",
       "</tr>\n",
       "<tr>\n",
       "  <th>floors</th>       <td>    0.0584</td> <td>    0.005</td> <td>   11.272</td> <td> 0.000</td> <td>    0.048</td> <td>    0.069</td>\n",
       "</tr>\n",
       "<tr>\n",
       "  <th>waterfront</th>   <td>    0.4878</td> <td>    0.026</td> <td>   18.812</td> <td> 0.000</td> <td>    0.437</td> <td>    0.539</td>\n",
       "</tr>\n",
       "<tr>\n",
       "  <th>condition</th>    <td>    0.0572</td> <td>    0.004</td> <td>   16.318</td> <td> 0.000</td> <td>    0.050</td> <td>    0.064</td>\n",
       "</tr>\n",
       "<tr>\n",
       "  <th>grade</th>        <td>    0.1800</td> <td>    0.003</td> <td>   58.573</td> <td> 0.000</td> <td>    0.174</td> <td>    0.186</td>\n",
       "</tr>\n",
       "<tr>\n",
       "  <th>yr_built</th>     <td>   -0.0018</td> <td>    0.000</td> <td>  -16.993</td> <td> 0.000</td> <td>   -0.002</td> <td>   -0.002</td>\n",
       "</tr>\n",
       "<tr>\n",
       "  <th>dist_to_dtwn</th> <td>   -0.0190</td> <td>    0.000</td> <td>  -73.752</td> <td> 0.000</td> <td>   -0.019</td> <td>   -0.018</td>\n",
       "</tr>\n",
       "</table>\n",
       "<table class=\"simpletable\">\n",
       "<tr>\n",
       "  <th>Omnibus:</th>       <td>328.318</td> <th>  Durbin-Watson:     </th> <td>   2.032</td> \n",
       "</tr>\n",
       "<tr>\n",
       "  <th>Prob(Omnibus):</th> <td> 0.000</td>  <th>  Jarque-Bera (JB):  </th> <td> 555.656</td> \n",
       "</tr>\n",
       "<tr>\n",
       "  <th>Skew:</th>          <td>-0.167</td>  <th>  Prob(JB):          </th> <td>2.19e-121</td>\n",
       "</tr>\n",
       "<tr>\n",
       "  <th>Kurtosis:</th>      <td> 3.813</td>  <th>  Cond. No.          </th> <td>2.96e+05</td> \n",
       "</tr>\n",
       "</table><br/><br/>Notes:<br/>[1] Standard Errors assume that the covariance matrix of the errors is correctly specified.<br/>[2] The condition number is large, 2.96e+05. This might indicate that there are<br/>strong multicollinearity or other numerical problems."
      ],
      "text/plain": [
       "<class 'statsmodels.iolib.summary.Summary'>\n",
       "\"\"\"\n",
       "                            OLS Regression Results                            \n",
       "==============================================================================\n",
       "Dep. Variable:                  price   R-squared:                       0.729\n",
       "Model:                            OLS   Adj. R-squared:                  0.729\n",
       "Method:                 Least Squares   F-statistic:                     4654.\n",
       "Date:                Tue, 30 Mar 2021   Prob (F-statistic):               0.00\n",
       "Time:                        13:45:09   Log-Likelihood:                -2131.4\n",
       "No. Observations:               17277   AIC:                             4285.\n",
       "Df Residuals:                   17266   BIC:                             4370.\n",
       "Df Model:                          10                                         \n",
       "Covariance Type:            nonrobust                                         \n",
       "================================================================================\n",
       "                   coef    std err          t      P>|t|      [0.025      0.975]\n",
       "--------------------------------------------------------------------------------\n",
       "const           14.2696      0.209     68.240      0.000      13.860      14.679\n",
       "bedrooms        -0.0651      0.009     -6.950      0.000      -0.083      -0.047\n",
       "bathrooms        0.0669      0.005     13.741      0.000       0.057       0.076\n",
       "sqft_living      0.0002   4.78e-06     40.185      0.000       0.000       0.000\n",
       "sqft_lot         0.0629      0.003     20.110      0.000       0.057       0.069\n",
       "floors           0.0584      0.005     11.272      0.000       0.048       0.069\n",
       "waterfront       0.4878      0.026     18.812      0.000       0.437       0.539\n",
       "condition        0.0572      0.004     16.318      0.000       0.050       0.064\n",
       "grade            0.1800      0.003     58.573      0.000       0.174       0.186\n",
       "yr_built        -0.0018      0.000    -16.993      0.000      -0.002      -0.002\n",
       "dist_to_dtwn    -0.0190      0.000    -73.752      0.000      -0.019      -0.018\n",
       "==============================================================================\n",
       "Omnibus:                      328.318   Durbin-Watson:                   2.032\n",
       "Prob(Omnibus):                  0.000   Jarque-Bera (JB):              555.656\n",
       "Skew:                          -0.167   Prob(JB):                    2.19e-121\n",
       "Kurtosis:                       3.813   Cond. No.                     2.96e+05\n",
       "==============================================================================\n",
       "\n",
       "Notes:\n",
       "[1] Standard Errors assume that the covariance matrix of the errors is correctly specified.\n",
       "[2] The condition number is large, 2.96e+05. This might indicate that there are\n",
       "strong multicollinearity or other numerical problems.\n",
       "\"\"\""
      ]
     },
     "execution_count": 45,
     "metadata": {},
     "output_type": "execute_result"
    }
   ],
   "source": [
    "X4 = df_outlier_filter.drop(columns=['price'], axis=1)\n",
    "y4 = df_outlier_filter['price']\n",
    "X_train4, X_test4, y_train4, y_test4 = train_test_split(X4, y4, test_size=0.2)\n",
    "\n",
    "# Refit model with subset features\n",
    "predictors = sm.add_constant(X_train4)\n",
    "model_4 = sm.OLS(y_train4, predictors).fit()\n",
    "model_4.summary()"
   ]
  },
  {
   "cell_type": "code",
   "execution_count": 46,
   "metadata": {},
   "outputs": [
    {
     "data": {
      "image/png": "[encoded data removed]",
      "text/plain": [
       "<Figure size 432x288 with 1 Axes>"
      ]
     },
     "metadata": {
      "needs_background": "light"
     },
     "output_type": "display_data"
    }
   ],
   "source": [
    "fig = sm.graphics.qqplot(model_4.resid, dist=stats.norm, line='45', fit=True)"
   ]
  },
  {
   "cell_type": "code",
   "execution_count": 47,
   "metadata": {},
   "outputs": [
    {
     "name": "stdout",
     "output_type": "stream",
     "text": [
      "Train Root Mean Square Error: 0.273741914676503\n",
      "Test Root Mean Square Error: 0.2717959676412367\n"
     ]
    }
   ],
   "source": [
    "regression4 = LinearRegression()\n",
    "regression4.fit(X_train4, y_train4)\n",
    "\n",
    "#use the regression for the train and test data\n",
    "y_hat_train4 = regression4.predict(X_train4)\n",
    "y_hat_test4 = regression4.predict(X_test4)\n",
    "\n",
    "#Root Mean Square Error\n",
    "train_rmse4 = np.sqrt(mean_squared_error(y_train4, y_hat_train4))\n",
    "test_rmse4 = np.sqrt(mean_squared_error(y_test4, y_hat_test4))\n",
    "\n",
    "print(f'Train Root Mean Square Error: {train_rmse4}')\n",
    "print(f'Test Root Mean Square Error: {test_rmse4}')"
   ]
  },
  {
   "cell_type": "markdown",
   "metadata": {},
   "source": [
    "This is a nice improvement. This is our best model thus far. It passes the normality check from looking at the QQ plot and it is homoscedastic.\n",
    "\n",
    "Interpreting this model:\n",
    "\n",
    "R-squared: 73.1% variation in the price can be explained by all of our feature columns.\n",
    "\n",
    "Durbin-waton: A value preferred between 1-2 implies that the regression results are reliable from the side of homoscedasticity.\n",
    "\n",
    "The highest coefficients belong to Grade and Waterfront: namely, what grade the home has been given by the King County Housing System.  Additionally, having a waterfront view as a part of your home largely impacts the price.\n",
    "\n",
    "When needed, we can now use this model to give us prediction values for an estimated price, given the values for the features of a home we are trying to sell.  Obviously, someone would be unable to renovate their home to suddenly have a waterfront view, but doing something like adding a bathroom (the 3rd highest coefficient) seems to also have a significant impact of the expected price of a home for this model as well."
   ]
  },
  {
   "cell_type": "code",
   "execution_count": 48,
   "metadata": {},
   "outputs": [
    {
     "data": {
      "image/png": "[encoded data removed]",
      "text/plain": [
       "<Figure size 432x288 with 1 Axes>"
      ]
     },
     "metadata": {
      "needs_background": "light"
     },
     "output_type": "display_data"
    }
   ],
   "source": [
    "model_4.params[1:].sort_values(ascending=False).plot.bar(color=['blue','blue','blue','blue','blue','blue','blue','red','red','red']);"
   ]
  },
  {
   "cell_type": "markdown",
   "metadata": {},
   "source": [
    "This is a visualization of our coefficients. To compare, I have taken the absolute value of each in the series, but made sure to indicate negative coefficients in red columns. I have also compared the Root Mean Squared Errors of our 4 models below."
   ]
  },
  {
   "cell_type": "code",
   "execution_count": 49,
   "metadata": {},
   "outputs": [
    {
     "name": "stdout",
     "output_type": "stream",
     "text": [
      "Train Root Mean Square Error 1: 0.27531389328266376\n",
      "Test Root Mean Square Error 1: 1575.9726456887201\n",
      "Train Root Mean Square Error 2: 0.273907239139027\n",
      "Test Root Mean Square Error 2: 0.2747416706971288\n",
      "Train Root Mean Square Error 3: 0.30238948582354064\n",
      "Test Root Mean Square Error 3: 0.30323784866984355\n",
      "Train Root Mean Square Error 4: 0.273741914676503\n",
      "Test Root Mean Square Error 4: 0.2717959676412367\n"
     ]
    }
   ],
   "source": [
    "print(f'Train Root Mean Square Error 1: {train_rmse}')\n",
    "print(f'Test Root Mean Square Error 1: {test_rmse}')\n",
    "\n",
    "print(f'Train Root Mean Square Error 2: {train_rmse2}')\n",
    "print(f'Test Root Mean Square Error 2: {test_rmse2}')\n",
    "\n",
    "print(f'Train Root Mean Square Error 3: {train_rmse3}')\n",
    "print(f'Test Root Mean Square Error 3: {test_rmse3}')\n",
    "\n",
    "print(f'Train Root Mean Square Error 4: {train_rmse4}')\n",
    "print(f'Test Root Mean Square Error 4: {test_rmse4}')"
   ]
  },
  {
   "cell_type": "markdown",
   "metadata": {},
   "source": [
    "Just from glancing at this, I believe the best model to be Model 4.  Although it may be slightly more overfitted than Model 2, Model 4 has the lowest Root Mean Squared Error on its test data. I'll now fit the model on our data, without a train test split."
   ]
  },
  {
   "cell_type": "code",
   "execution_count": 50,
   "metadata": {},
   "outputs": [
    {
     "data": {
      "text/html": [
       "<table class=\"simpletable\">\n",
       "<caption>OLS Regression Results</caption>\n",
       "<tr>\n",
       "  <th>Dep. Variable:</th>          <td>price</td>      <th>  R-squared:         </th> <td>   0.731</td>\n",
       "</tr>\n",
       "<tr>\n",
       "  <th>Model:</th>                   <td>OLS</td>       <th>  Adj. R-squared:    </th> <td>   0.730</td>\n",
       "</tr>\n",
       "<tr>\n",
       "  <th>Method:</th>             <td>Least Squares</td>  <th>  F-statistic:       </th> <td>   5851.</td>\n",
       "</tr>\n",
       "<tr>\n",
       "  <th>Date:</th>             <td>Tue, 30 Mar 2021</td> <th>  Prob (F-statistic):</th>  <td>  0.00</td> \n",
       "</tr>\n",
       "<tr>\n",
       "  <th>Time:</th>                 <td>13:45:09</td>     <th>  Log-Likelihood:    </th> <td> -2632.6</td>\n",
       "</tr>\n",
       "<tr>\n",
       "  <th>No. Observations:</th>      <td> 21597</td>      <th>  AIC:               </th> <td>   5287.</td>\n",
       "</tr>\n",
       "<tr>\n",
       "  <th>Df Residuals:</th>          <td> 21586</td>      <th>  BIC:               </th> <td>   5375.</td>\n",
       "</tr>\n",
       "<tr>\n",
       "  <th>Df Model:</th>              <td>    10</td>      <th>                     </th>     <td> </td>   \n",
       "</tr>\n",
       "<tr>\n",
       "  <th>Covariance Type:</th>      <td>nonrobust</td>    <th>                     </th>     <td> </td>   \n",
       "</tr>\n",
       "</table>\n",
       "<table class=\"simpletable\">\n",
       "<tr>\n",
       "        <td></td>          <th>coef</th>     <th>std err</th>      <th>t</th>      <th>P>|t|</th>  <th>[0.025</th>    <th>0.975]</th>  \n",
       "</tr>\n",
       "<tr>\n",
       "  <th>const</th>        <td>   14.1879</td> <td>    0.187</td> <td>   75.701</td> <td> 0.000</td> <td>   13.821</td> <td>   14.555</td>\n",
       "</tr>\n",
       "<tr>\n",
       "  <th>bedrooms</th>     <td>   -0.0610</td> <td>    0.008</td> <td>   -7.312</td> <td> 0.000</td> <td>   -0.077</td> <td>   -0.045</td>\n",
       "</tr>\n",
       "<tr>\n",
       "  <th>bathrooms</th>    <td>    0.0631</td> <td>    0.004</td> <td>   14.468</td> <td> 0.000</td> <td>    0.055</td> <td>    0.072</td>\n",
       "</tr>\n",
       "<tr>\n",
       "  <th>sqft_living</th>  <td>    0.0002</td> <td> 4.31e-06</td> <td>   44.623</td> <td> 0.000</td> <td>    0.000</td> <td>    0.000</td>\n",
       "</tr>\n",
       "<tr>\n",
       "  <th>sqft_lot</th>     <td>    0.0629</td> <td>    0.003</td> <td>   22.683</td> <td> 0.000</td> <td>    0.057</td> <td>    0.068</td>\n",
       "</tr>\n",
       "<tr>\n",
       "  <th>floors</th>       <td>    0.0590</td> <td>    0.005</td> <td>   12.825</td> <td> 0.000</td> <td>    0.050</td> <td>    0.068</td>\n",
       "</tr>\n",
       "<tr>\n",
       "  <th>waterfront</th>   <td>    0.4995</td> <td>    0.023</td> <td>   21.736</td> <td> 0.000</td> <td>    0.454</td> <td>    0.545</td>\n",
       "</tr>\n",
       "<tr>\n",
       "  <th>condition</th>    <td>    0.0595</td> <td>    0.003</td> <td>   19.086</td> <td> 0.000</td> <td>    0.053</td> <td>    0.066</td>\n",
       "</tr>\n",
       "<tr>\n",
       "  <th>grade</th>        <td>    0.1812</td> <td>    0.003</td> <td>   66.004</td> <td> 0.000</td> <td>    0.176</td> <td>    0.187</td>\n",
       "</tr>\n",
       "<tr>\n",
       "  <th>yr_built</th>     <td>   -0.0018</td> <td> 9.55e-05</td> <td>  -18.582</td> <td> 0.000</td> <td>   -0.002</td> <td>   -0.002</td>\n",
       "</tr>\n",
       "<tr>\n",
       "  <th>dist_to_dtwn</th> <td>   -0.0189</td> <td>    0.000</td> <td>  -82.640</td> <td> 0.000</td> <td>   -0.019</td> <td>   -0.018</td>\n",
       "</tr>\n",
       "</table>\n",
       "<table class=\"simpletable\">\n",
       "<tr>\n",
       "  <th>Omnibus:</th>       <td>358.329</td> <th>  Durbin-Watson:     </th> <td>   1.991</td> \n",
       "</tr>\n",
       "<tr>\n",
       "  <th>Prob(Omnibus):</th> <td> 0.000</td>  <th>  Jarque-Bera (JB):  </th> <td> 582.147</td> \n",
       "</tr>\n",
       "<tr>\n",
       "  <th>Skew:</th>          <td>-0.156</td>  <th>  Prob(JB):          </th> <td>3.88e-127</td>\n",
       "</tr>\n",
       "<tr>\n",
       "  <th>Kurtosis:</th>      <td> 3.741</td>  <th>  Cond. No.          </th> <td>2.97e+05</td> \n",
       "</tr>\n",
       "</table><br/><br/>Notes:<br/>[1] Standard Errors assume that the covariance matrix of the errors is correctly specified.<br/>[2] The condition number is large, 2.97e+05. This might indicate that there are<br/>strong multicollinearity or other numerical problems."
      ],
      "text/plain": [
       "<class 'statsmodels.iolib.summary.Summary'>\n",
       "\"\"\"\n",
       "                            OLS Regression Results                            \n",
       "==============================================================================\n",
       "Dep. Variable:                  price   R-squared:                       0.731\n",
       "Model:                            OLS   Adj. R-squared:                  0.730\n",
       "Method:                 Least Squares   F-statistic:                     5851.\n",
       "Date:                Tue, 30 Mar 2021   Prob (F-statistic):               0.00\n",
       "Time:                        13:45:09   Log-Likelihood:                -2632.6\n",
       "No. Observations:               21597   AIC:                             5287.\n",
       "Df Residuals:                   21586   BIC:                             5375.\n",
       "Df Model:                          10                                         \n",
       "Covariance Type:            nonrobust                                         \n",
       "================================================================================\n",
       "                   coef    std err          t      P>|t|      [0.025      0.975]\n",
       "--------------------------------------------------------------------------------\n",
       "const           14.1879      0.187     75.701      0.000      13.821      14.555\n",
       "bedrooms        -0.0610      0.008     -7.312      0.000      -0.077      -0.045\n",
       "bathrooms        0.0631      0.004     14.468      0.000       0.055       0.072\n",
       "sqft_living      0.0002   4.31e-06     44.623      0.000       0.000       0.000\n",
       "sqft_lot         0.0629      0.003     22.683      0.000       0.057       0.068\n",
       "floors           0.0590      0.005     12.825      0.000       0.050       0.068\n",
       "waterfront       0.4995      0.023     21.736      0.000       0.454       0.545\n",
       "condition        0.0595      0.003     19.086      0.000       0.053       0.066\n",
       "grade            0.1812      0.003     66.004      0.000       0.176       0.187\n",
       "yr_built        -0.0018   9.55e-05    -18.582      0.000      -0.002      -0.002\n",
       "dist_to_dtwn    -0.0189      0.000    -82.640      0.000      -0.019      -0.018\n",
       "==============================================================================\n",
       "Omnibus:                      358.329   Durbin-Watson:                   1.991\n",
       "Prob(Omnibus):                  0.000   Jarque-Bera (JB):              582.147\n",
       "Skew:                          -0.156   Prob(JB):                    3.88e-127\n",
       "Kurtosis:                       3.741   Cond. No.                     2.97e+05\n",
       "==============================================================================\n",
       "\n",
       "Notes:\n",
       "[1] Standard Errors assume that the covariance matrix of the errors is correctly specified.\n",
       "[2] The condition number is large, 2.97e+05. This might indicate that there are\n",
       "strong multicollinearity or other numerical problems.\n",
       "\"\"\""
      ]
     },
     "execution_count": 50,
     "metadata": {},
     "output_type": "execute_result"
    }
   ],
   "source": [
    "X_final = df_outlier_filter.drop(columns=['price'], axis=1)\n",
    "y_final = df_outlier_filter['price']\n",
    "\n",
    "predictors = sm.add_constant(X_final)\n",
    "model_final = sm.OLS(y_final, predictors).fit()\n",
    "model_final.summary()"
   ]
  },
  {
   "cell_type": "code",
   "execution_count": 51,
   "metadata": {},
   "outputs": [
    {
     "name": "stdout",
     "output_type": "stream",
     "text": [
      "Test Root Mean Square Error: 0.2733395685228193\n"
     ]
    }
   ],
   "source": [
    "regression_final = LinearRegression()\n",
    "regression_final.fit(X_final, y_final)\n",
    "\n",
    "y_hat_final = regression_final.predict(X_final)\n",
    "rmse_final = np.sqrt(mean_squared_error(y_final, y_hat_final))\n",
    "\n",
    "print(f'Test Root Mean Square Error: {rmse_final}')"
   ]
  },
  {
   "cell_type": "markdown",
   "metadata": {},
   "source": [
    "## Conclusion\n",
    "\n",
    "I believe the best model is Model 4, where the outliers have been filtered out and none of the features are removed . Although this suffers from multicollinearity, it has an r-squared value of ~0.73, which is the most accurate model in our analysis.\n",
    "\n",
    "I believe this is acceptable within the context of this scenario. It affects the coefficients and p-values, but it does not influence the predicitons, precision of the predictions, and the statistics determining goodness of fit.  Our primary goal is to have a model to make predictions for us.\n",
    "\n",
    "To further improve this, I would use more of the columns included in the original dataset to try to increase my r-squared value and hopefully fix the QQplot issues I was having for all of my models."
   ]
  }
 ],
 "metadata": {
  "kernelspec": {
   "display_name": "learn-env",
   "language": "python",
   "name": "learn-env"
  },
  "language_info": {
   "codemirror_mode": {
    "name": "ipython",
    "version": 3
   },
   "file_extension": ".py",
   "mimetype": "text/x-python",
   "name": "python",
   "nbconvert_exporter": "python",
   "pygments_lexer": "ipython3",
   "version": "3.8.5"
  }
 },
 "nbformat": 4,
 "nbformat_minor": 4
}
